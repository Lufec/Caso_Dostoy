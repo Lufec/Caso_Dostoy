{
  "nbformat": 4,
  "nbformat_minor": 0,
  "metadata": {
    "colab": {
      "name": "Dostoy_2classes.ipynb",
      "provenance": [],
      "collapsed_sections": [],
      "authorship_tag": "ABX9TyOQq36y2/QntsJw1iSAQW7O",
      "include_colab_link": true
    },
    "kernelspec": {
      "name": "python3",
      "display_name": "Python 3"
    }
  },
  "cells": [
    {
      "cell_type": "markdown",
      "metadata": {
        "id": "view-in-github",
        "colab_type": "text"
      },
      "source": [
        "<a href=\"https://colab.research.google.com/github/Lufec/Caso_Dostoy/blob/main/Dostoy_2classes.ipynb\" target=\"_parent\"><img src=\"https://colab.research.google.com/assets/colab-badge.svg\" alt=\"Open In Colab\"/></a>"
      ]
    },
    {
      "cell_type": "code",
      "metadata": {
        "id": "qRhlRyFhXIG5"
      },
      "source": [
        "import numpy as np\n",
        "import pandas as pd\n",
        "import matplotlib.pyplot as plt\n",
        "import seaborn as sns\n",
        "from sklearn.model_selection import train_test_split"
      ],
      "execution_count": null,
      "outputs": []
    },
    {
      "cell_type": "code",
      "metadata": {
        "id": "FpFmgJ6QoYx9"
      },
      "source": [
        "np.set_printoptions(precision = 5,edgeitems = 11, linewidth = 200, suppress = True)"
      ],
      "execution_count": null,
      "outputs": []
    },
    {
      "cell_type": "code",
      "metadata": {
        "colab": {
          "base_uri": "https://localhost:8080/"
        },
        "id": "zKXpDQChXNHw",
        "outputId": "7a38c1ac-7917-479c-c695-0ddf6e214a00"
      },
      "source": [
        "from google.colab import drive\n",
        "drive.mount('/content/gdrive')"
      ],
      "execution_count": null,
      "outputs": [
        {
          "output_type": "stream",
          "text": [
            "Drive already mounted at /content/gdrive; to attempt to forcibly remount, call drive.mount(\"/content/gdrive\", force_remount=True).\n"
          ],
          "name": "stdout"
        }
      ]
    },
    {
      "cell_type": "code",
      "metadata": {
        "id": "4k4W8xclXOgv"
      },
      "source": [
        "df = pd.read_excel(\"/content/gdrive/My Drive/CIÊNCIA DA COMPUTAÇÃO/CNN/Dolstoy_Profile.xls\").drop(columns = 'ClienteNo')"
      ],
      "execution_count": null,
      "outputs": []
    },
    {
      "cell_type": "markdown",
      "metadata": {
        "id": "RTze2M6RGjEb"
      },
      "source": [
        "Separar target em labels"
      ]
    },
    {
      "cell_type": "code",
      "metadata": {
        "colab": {
          "base_uri": "https://localhost:8080/"
        },
        "id": "e7k6vh8AGiUJ",
        "outputId": "e3dee6f4-92f4-4cce-8329-dcd185756309"
      },
      "source": [
        "df.PrimeiraCompra.describe()"
      ],
      "execution_count": null,
      "outputs": [
        {
          "output_type": "execute_result",
          "data": {
            "text/plain": [
              "count    2840.000000\n",
              "mean       53.112063\n",
              "std        26.237098\n",
              "min         0.000000\n",
              "25%        32.900000\n",
              "50%        51.010000\n",
              "75%        71.360000\n",
              "max       137.780000\n",
              "Name: PrimeiraCompra, dtype: float64"
            ]
          },
          "metadata": {
            "tags": []
          },
          "execution_count": 2634
        }
      ]
    },
    {
      "cell_type": "code",
      "metadata": {
        "id": "fmMgmeVpx8mc"
      },
      "source": [
        "df['Lucro'] = df['PrimeiraCompra'].copy() - 42"
      ],
      "execution_count": null,
      "outputs": []
    },
    {
      "cell_type": "code",
      "metadata": {
        "id": "aUUnf_w5Z5N6"
      },
      "source": [
        "df.NivelGerencial = df.NivelGerencial -1"
      ],
      "execution_count": null,
      "outputs": []
    },
    {
      "cell_type": "code",
      "metadata": {
        "id": "XwcKD2IwGtyw"
      },
      "source": [
        "df.loc[df.PrimeiraCompra < 42, \"PrimeiraCompra\"] = 0\n",
        "df.loc[df.PrimeiraCompra >= 42, \"PrimeiraCompra\"] = 1"
      ],
      "execution_count": null,
      "outputs": []
    },
    {
      "cell_type": "code",
      "metadata": {
        "colab": {
          "base_uri": "https://localhost:8080/"
        },
        "id": "efo2q908Hrf6",
        "outputId": "bd2e4d69-c59f-41ee-f893-a873c7a5641a"
      },
      "source": [
        "df.PrimeiraCompra.value_counts()"
      ],
      "execution_count": null,
      "outputs": [
        {
          "output_type": "execute_result",
          "data": {
            "text/plain": [
              "1.0    1776\n",
              "0.0    1064\n",
              "Name: PrimeiraCompra, dtype: int64"
            ]
          },
          "metadata": {
            "tags": []
          },
          "execution_count": 2638
        }
      ]
    },
    {
      "cell_type": "code",
      "metadata": {
        "id": "Fc9Jkcj-I6nf"
      },
      "source": [
        "df_caso1 = df[df['PrimeiraCompra'] == 1]\n",
        "df_caso0 = df[df['PrimeiraCompra'] == 0]"
      ],
      "execution_count": null,
      "outputs": []
    },
    {
      "cell_type": "code",
      "metadata": {
        "colab": {
          "base_uri": "https://localhost:8080/"
        },
        "id": "eOeWzWgif7mt",
        "outputId": "9f0ed529-86c8-4816-f7eb-d966689cea1b"
      },
      "source": [
        "df_caso1['PrimeiraCompra'].value_counts()"
      ],
      "execution_count": null,
      "outputs": [
        {
          "output_type": "execute_result",
          "data": {
            "text/plain": [
              "1.0    1776\n",
              "Name: PrimeiraCompra, dtype: int64"
            ]
          },
          "metadata": {
            "tags": []
          },
          "execution_count": 2640
        }
      ]
    },
    {
      "cell_type": "markdown",
      "metadata": {
        "id": "ra5HmiH3GZj9"
      },
      "source": [
        "Separar treino balanceadamente (851 casos \"1\" e 851 casos \"0\"). Teste fica com o resto (925 casos \"1\" e 213 casos \"0\")"
      ]
    },
    {
      "cell_type": "code",
      "metadata": {
        "id": "oBvQKWLsitpt"
      },
      "source": [
        "df1_train = df_caso1.head(851)\n",
        "df0_train = df_caso0.head(851)\n",
        "df1_test  = df_caso1.tail(925)\n",
        "df0_test  = df_caso0.tail(213)\n",
        "df_train = pd.concat([df1_train,df0_train]).sample(frac = 1).reset_index(drop = True)\n",
        "df_test = pd.concat([df1_test,df0_test]).sample(frac = 1).reset_index(drop = True)\n",
        "x_train = df_train.drop(columns = 'PrimeiraCompra')\n",
        "y_train = df_train.PrimeiraCompra\n",
        "x_test = df_test.drop(columns = 'PrimeiraCompra')\n",
        "y_test = df_test.PrimeiraCompra"
      ],
      "execution_count": null,
      "outputs": []
    },
    {
      "cell_type": "code",
      "metadata": {
        "colab": {
          "base_uri": "https://localhost:8080/",
          "height": 215
        },
        "id": "WzF1A3MilNK6",
        "outputId": "4e3712b0-e969-42cd-e775-b5e54703a026"
      },
      "source": [
        "x_train.head(5)"
      ],
      "execution_count": null,
      "outputs": [
        {
          "output_type": "execute_result",
          "data": {
            "text/html": [
              "<div>\n",
              "<style scoped>\n",
              "    .dataframe tbody tr th:only-of-type {\n",
              "        vertical-align: middle;\n",
              "    }\n",
              "\n",
              "    .dataframe tbody tr th {\n",
              "        vertical-align: top;\n",
              "    }\n",
              "\n",
              "    .dataframe thead th {\n",
              "        text-align: right;\n",
              "    }\n",
              "</style>\n",
              "<table border=\"1\" class=\"dataframe\">\n",
              "  <thead>\n",
              "    <tr style=\"text-align: right;\">\n",
              "      <th></th>\n",
              "      <th>Cidade</th>\n",
              "      <th>Idade</th>\n",
              "      <th>Sexo</th>\n",
              "      <th>EstadoCivil</th>\n",
              "      <th>NumeroFilhos</th>\n",
              "      <th>Escolaridade</th>\n",
              "      <th>Ocupacao</th>\n",
              "      <th>AreaAtuacao</th>\n",
              "      <th>NivelGerencial</th>\n",
              "      <th>TipoResidencia</th>\n",
              "      <th>CondicaoResidencia</th>\n",
              "      <th>ValorImovel</th>\n",
              "      <th>NoAutomoveis</th>\n",
              "      <th>Computador</th>\n",
              "      <th>Lucro</th>\n",
              "    </tr>\n",
              "  </thead>\n",
              "  <tbody>\n",
              "    <tr>\n",
              "      <th>0</th>\n",
              "      <td>2</td>\n",
              "      <td>35.18007</td>\n",
              "      <td>2</td>\n",
              "      <td>1</td>\n",
              "      <td>0</td>\n",
              "      <td>2</td>\n",
              "      <td>3</td>\n",
              "      <td>9</td>\n",
              "      <td>2</td>\n",
              "      <td>2</td>\n",
              "      <td>2</td>\n",
              "      <td>2</td>\n",
              "      <td>1</td>\n",
              "      <td>2</td>\n",
              "      <td>-11.74</td>\n",
              "    </tr>\n",
              "    <tr>\n",
              "      <th>1</th>\n",
              "      <td>6</td>\n",
              "      <td>39.80395</td>\n",
              "      <td>2</td>\n",
              "      <td>3</td>\n",
              "      <td>0</td>\n",
              "      <td>3</td>\n",
              "      <td>2</td>\n",
              "      <td>6</td>\n",
              "      <td>3</td>\n",
              "      <td>2</td>\n",
              "      <td>3</td>\n",
              "      <td>3</td>\n",
              "      <td>2</td>\n",
              "      <td>2</td>\n",
              "      <td>-14.96</td>\n",
              "    </tr>\n",
              "    <tr>\n",
              "      <th>2</th>\n",
              "      <td>8</td>\n",
              "      <td>54.58819</td>\n",
              "      <td>2</td>\n",
              "      <td>3</td>\n",
              "      <td>0</td>\n",
              "      <td>4</td>\n",
              "      <td>3</td>\n",
              "      <td>2</td>\n",
              "      <td>5</td>\n",
              "      <td>3</td>\n",
              "      <td>3</td>\n",
              "      <td>3</td>\n",
              "      <td>2</td>\n",
              "      <td>2</td>\n",
              "      <td>-20.79</td>\n",
              "    </tr>\n",
              "    <tr>\n",
              "      <th>3</th>\n",
              "      <td>10</td>\n",
              "      <td>42.80345</td>\n",
              "      <td>1</td>\n",
              "      <td>3</td>\n",
              "      <td>0</td>\n",
              "      <td>3</td>\n",
              "      <td>3</td>\n",
              "      <td>6</td>\n",
              "      <td>3</td>\n",
              "      <td>2</td>\n",
              "      <td>2</td>\n",
              "      <td>3</td>\n",
              "      <td>1</td>\n",
              "      <td>2</td>\n",
              "      <td>-4.81</td>\n",
              "    </tr>\n",
              "    <tr>\n",
              "      <th>4</th>\n",
              "      <td>9</td>\n",
              "      <td>20.77313</td>\n",
              "      <td>1</td>\n",
              "      <td>1</td>\n",
              "      <td>0</td>\n",
              "      <td>1</td>\n",
              "      <td>0</td>\n",
              "      <td>2</td>\n",
              "      <td>1</td>\n",
              "      <td>1</td>\n",
              "      <td>2</td>\n",
              "      <td>1</td>\n",
              "      <td>0</td>\n",
              "      <td>1</td>\n",
              "      <td>71.84</td>\n",
              "    </tr>\n",
              "  </tbody>\n",
              "</table>\n",
              "</div>"
            ],
            "text/plain": [
              "   Cidade     Idade  Sexo  ...  NoAutomoveis  Computador  Lucro\n",
              "0       2  35.18007     2  ...             1           2 -11.74\n",
              "1       6  39.80395     2  ...             2           2 -14.96\n",
              "2       8  54.58819     2  ...             2           2 -20.79\n",
              "3      10  42.80345     1  ...             1           2  -4.81\n",
              "4       9  20.77313     1  ...             0           1  71.84\n",
              "\n",
              "[5 rows x 15 columns]"
            ]
          },
          "metadata": {
            "tags": []
          },
          "execution_count": 2642
        }
      ]
    },
    {
      "cell_type": "code",
      "metadata": {
        "id": "9TJLlnPAmBZb"
      },
      "source": [
        "featNum = ['Idade','NumeroFilhos','Escolaridade','NivelGerencial','TipoResidencia','CondicaoResidencia','ValorImovel','NoAutomoveis','Computador']\n",
        "featCat = ['Cidade','EstadoCivil','Sexo','Ocupacao','AreaAtuacao']"
      ],
      "execution_count": null,
      "outputs": []
    },
    {
      "cell_type": "code",
      "metadata": {
        "id": "NeDqyhRgmzL-"
      },
      "source": [
        "x_num = x_train[featNum].reset_index(drop = True)\n",
        "x_cat = x_train[featCat].reset_index(drop = True)"
      ],
      "execution_count": null,
      "outputs": []
    },
    {
      "cell_type": "code",
      "metadata": {
        "id": "V8NzSRYQm_TC"
      },
      "source": [
        "x_num = x_num.drop(columns = ['NumeroFilhos','Computador'])"
      ],
      "execution_count": null,
      "outputs": []
    },
    {
      "cell_type": "markdown",
      "metadata": {
        "id": "-y9MgXgjoC_j"
      },
      "source": [
        "Features Numéricas"
      ]
    },
    {
      "cell_type": "code",
      "metadata": {
        "colab": {
          "base_uri": "https://localhost:8080/",
          "height": 195
        },
        "id": "zDQiFja3niQw",
        "outputId": "cc56efe0-c756-4e46-f3a7-947a92b51c0f"
      },
      "source": [
        "x_num.head(5)"
      ],
      "execution_count": null,
      "outputs": [
        {
          "output_type": "execute_result",
          "data": {
            "text/html": [
              "<div>\n",
              "<style scoped>\n",
              "    .dataframe tbody tr th:only-of-type {\n",
              "        vertical-align: middle;\n",
              "    }\n",
              "\n",
              "    .dataframe tbody tr th {\n",
              "        vertical-align: top;\n",
              "    }\n",
              "\n",
              "    .dataframe thead th {\n",
              "        text-align: right;\n",
              "    }\n",
              "</style>\n",
              "<table border=\"1\" class=\"dataframe\">\n",
              "  <thead>\n",
              "    <tr style=\"text-align: right;\">\n",
              "      <th></th>\n",
              "      <th>Idade</th>\n",
              "      <th>Escolaridade</th>\n",
              "      <th>NivelGerencial</th>\n",
              "      <th>TipoResidencia</th>\n",
              "      <th>CondicaoResidencia</th>\n",
              "      <th>ValorImovel</th>\n",
              "      <th>NoAutomoveis</th>\n",
              "    </tr>\n",
              "  </thead>\n",
              "  <tbody>\n",
              "    <tr>\n",
              "      <th>0</th>\n",
              "      <td>35.18007</td>\n",
              "      <td>2</td>\n",
              "      <td>2</td>\n",
              "      <td>2</td>\n",
              "      <td>2</td>\n",
              "      <td>2</td>\n",
              "      <td>1</td>\n",
              "    </tr>\n",
              "    <tr>\n",
              "      <th>1</th>\n",
              "      <td>39.80395</td>\n",
              "      <td>3</td>\n",
              "      <td>3</td>\n",
              "      <td>2</td>\n",
              "      <td>3</td>\n",
              "      <td>3</td>\n",
              "      <td>2</td>\n",
              "    </tr>\n",
              "    <tr>\n",
              "      <th>2</th>\n",
              "      <td>54.58819</td>\n",
              "      <td>4</td>\n",
              "      <td>5</td>\n",
              "      <td>3</td>\n",
              "      <td>3</td>\n",
              "      <td>3</td>\n",
              "      <td>2</td>\n",
              "    </tr>\n",
              "    <tr>\n",
              "      <th>3</th>\n",
              "      <td>42.80345</td>\n",
              "      <td>3</td>\n",
              "      <td>3</td>\n",
              "      <td>2</td>\n",
              "      <td>2</td>\n",
              "      <td>3</td>\n",
              "      <td>1</td>\n",
              "    </tr>\n",
              "    <tr>\n",
              "      <th>4</th>\n",
              "      <td>20.77313</td>\n",
              "      <td>1</td>\n",
              "      <td>1</td>\n",
              "      <td>1</td>\n",
              "      <td>2</td>\n",
              "      <td>1</td>\n",
              "      <td>0</td>\n",
              "    </tr>\n",
              "  </tbody>\n",
              "</table>\n",
              "</div>"
            ],
            "text/plain": [
              "      Idade  Escolaridade  ...  ValorImovel  NoAutomoveis\n",
              "0  35.18007             2  ...            2             1\n",
              "1  39.80395             3  ...            3             2\n",
              "2  54.58819             4  ...            3             2\n",
              "3  42.80345             3  ...            3             1\n",
              "4  20.77313             1  ...            1             0\n",
              "\n",
              "[5 rows x 7 columns]"
            ]
          },
          "metadata": {
            "tags": []
          },
          "execution_count": 2646
        }
      ]
    },
    {
      "cell_type": "markdown",
      "metadata": {
        "id": "w7nrOtozrwCS"
      },
      "source": [
        "Normalização"
      ]
    },
    {
      "cell_type": "code",
      "metadata": {
        "id": "h-BJ85K5ryIQ"
      },
      "source": [
        "x_num_mean = x_num.mean()\n",
        "x_num_std = x_num.std()"
      ],
      "execution_count": null,
      "outputs": []
    },
    {
      "cell_type": "code",
      "metadata": {
        "id": "UfMVG07tsEGo"
      },
      "source": [
        "x_num_norm = (x_num-x_num_mean)/x_num_std"
      ],
      "execution_count": null,
      "outputs": []
    },
    {
      "cell_type": "markdown",
      "metadata": {
        "id": "e1L0gOu3G2ks"
      },
      "source": [
        "PCA"
      ]
    },
    {
      "cell_type": "code",
      "metadata": {
        "id": "gKN0emKvn14w"
      },
      "source": [
        "correlation = np.corrcoef(x_num,rowvar = False)"
      ],
      "execution_count": null,
      "outputs": []
    },
    {
      "cell_type": "code",
      "metadata": {
        "colab": {
          "base_uri": "https://localhost:8080/"
        },
        "id": "drp9lkaioPxc",
        "outputId": "568c38b1-0871-4187-bc4d-be6a2853fc59"
      },
      "source": [
        "correlation"
      ],
      "execution_count": null,
      "outputs": [
        {
          "output_type": "execute_result",
          "data": {
            "text/plain": [
              "array([[1.     , 0.75276, 0.86097, 0.71197, 0.73226, 0.76425, 0.72349],\n",
              "       [0.75276, 1.     , 0.75484, 0.69515, 0.67066, 0.7016 , 0.66667],\n",
              "       [0.86097, 0.75484, 1.     , 0.74161, 0.79913, 0.83705, 0.80541],\n",
              "       [0.71197, 0.69515, 0.74161, 1.     , 0.6468 , 0.66913, 0.62404],\n",
              "       [0.73226, 0.67066, 0.79913, 0.6468 , 1.     , 0.72231, 0.67726],\n",
              "       [0.76425, 0.7016 , 0.83705, 0.66913, 0.72231, 1.     , 0.71593],\n",
              "       [0.72349, 0.66667, 0.80541, 0.62404, 0.67726, 0.71593, 1.     ]])"
            ]
          },
          "metadata": {
            "tags": []
          },
          "execution_count": 2650
        }
      ]
    },
    {
      "cell_type": "code",
      "metadata": {
        "id": "rRsMqinCol8I"
      },
      "source": [
        "eigvals,eigvect = np.linalg.eig(correlation)"
      ],
      "execution_count": null,
      "outputs": []
    },
    {
      "cell_type": "code",
      "metadata": {
        "colab": {
          "base_uri": "https://localhost:8080/"
        },
        "id": "JAX04kQ3o7aM",
        "outputId": "bd24311a-b439-400c-9812-7f3fbfcbe961"
      },
      "source": [
        "eigvals"
      ],
      "execution_count": null,
      "outputs": [
        {
          "output_type": "execute_result",
          "data": {
            "text/plain": [
              "array([5.37355, 0.10333, 0.4089 , 0.22356, 0.26749, 0.30014, 0.32302])"
            ]
          },
          "metadata": {
            "tags": []
          },
          "execution_count": 2652
        }
      ]
    },
    {
      "cell_type": "code",
      "metadata": {
        "colab": {
          "base_uri": "https://localhost:8080/"
        },
        "id": "YyZDwlsfo9Dp",
        "outputId": "8c04cfc8-66e1-4151-917f-86213b90d100"
      },
      "source": [
        "eigvect"
      ],
      "execution_count": null,
      "outputs": [
        {
          "output_type": "execute_result",
          "data": {
            "text/plain": [
              "array([[ 0.39122, -0.35503, -0.02144,  0.81405, -0.18804,  0.14783,  0.02347],\n",
              "       [ 0.36841,  0.04357, -0.38899, -0.25856,  0.2121 ,  0.72287,  0.27691],\n",
              "       [ 0.40915,  0.87107,  0.15599,  0.17513, -0.11384, -0.07483, -0.01622],\n",
              "       [ 0.35693, -0.06554, -0.71179, -0.09916,  0.04845, -0.58826, -0.0585 ],\n",
              "       [ 0.36933, -0.1437 ,  0.25228, -0.11964,  0.45211,  0.06641, -0.74577],\n",
              "       [ 0.38142, -0.22404,  0.21369, -0.44844, -0.74293,  0.01942, -0.07237],\n",
              "       [ 0.36678, -0.19532,  0.456  , -0.12064,  0.38469, -0.3149 ,  0.59806]])"
            ]
          },
          "metadata": {
            "tags": []
          },
          "execution_count": 2653
        }
      ]
    },
    {
      "cell_type": "code",
      "metadata": {
        "colab": {
          "base_uri": "https://localhost:8080/"
        },
        "id": "i1PFqyptpAak",
        "outputId": "9c7df41b-5a19-459f-8073-abec6634e951"
      },
      "source": [
        "eigvals/sum(eigvals)"
      ],
      "execution_count": null,
      "outputs": [
        {
          "output_type": "execute_result",
          "data": {
            "text/plain": [
              "array([0.76765, 0.01476, 0.05841, 0.03194, 0.03821, 0.04288, 0.04615])"
            ]
          },
          "metadata": {
            "tags": []
          },
          "execution_count": 2654
        }
      ]
    },
    {
      "cell_type": "code",
      "metadata": {
        "colab": {
          "base_uri": "https://localhost:8080/"
        },
        "id": "vQOImgbbssH5",
        "outputId": "40c1d912-c828-41da-9458-5559f59c15d0"
      },
      "source": [
        "x_avet = eigvect[:,[0,2,5,6]]\n",
        "x_avet"
      ],
      "execution_count": null,
      "outputs": [
        {
          "output_type": "execute_result",
          "data": {
            "text/plain": [
              "array([[ 0.39122, -0.02144,  0.14783,  0.02347],\n",
              "       [ 0.36841, -0.38899,  0.72287,  0.27691],\n",
              "       [ 0.40915,  0.15599, -0.07483, -0.01622],\n",
              "       [ 0.35693, -0.71179, -0.58826, -0.0585 ],\n",
              "       [ 0.36933,  0.25228,  0.06641, -0.74577],\n",
              "       [ 0.38142,  0.21369,  0.01942, -0.07237],\n",
              "       [ 0.36678,  0.456  , -0.3149 ,  0.59806]])"
            ]
          },
          "metadata": {
            "tags": []
          },
          "execution_count": 2655
        }
      ]
    },
    {
      "cell_type": "code",
      "metadata": {
        "id": "z8ZUR6cVtIg3"
      },
      "source": [
        "x_num_dec = np.dot(x_num_norm,x_avet)"
      ],
      "execution_count": null,
      "outputs": []
    },
    {
      "cell_type": "code",
      "metadata": {
        "id": "Epdjh1xxtWNC"
      },
      "source": [
        "x_num_dec = pd.DataFrame(x_num_dec,columns = ['PC0','PC1','PC2','PC3'])"
      ],
      "execution_count": null,
      "outputs": []
    },
    {
      "cell_type": "markdown",
      "metadata": {
        "id": "Rs0MS0qBugqc"
      },
      "source": [
        "## Features Categoricas"
      ]
    },
    {
      "cell_type": "code",
      "metadata": {
        "colab": {
          "base_uri": "https://localhost:8080/",
          "height": 402
        },
        "id": "CpmyUzJbukq7",
        "outputId": "d5d90ef0-c455-4f2d-cf84-4c2a11c2da81"
      },
      "source": [
        "x_cat"
      ],
      "execution_count": null,
      "outputs": [
        {
          "output_type": "execute_result",
          "data": {
            "text/html": [
              "<div>\n",
              "<style scoped>\n",
              "    .dataframe tbody tr th:only-of-type {\n",
              "        vertical-align: middle;\n",
              "    }\n",
              "\n",
              "    .dataframe tbody tr th {\n",
              "        vertical-align: top;\n",
              "    }\n",
              "\n",
              "    .dataframe thead th {\n",
              "        text-align: right;\n",
              "    }\n",
              "</style>\n",
              "<table border=\"1\" class=\"dataframe\">\n",
              "  <thead>\n",
              "    <tr style=\"text-align: right;\">\n",
              "      <th></th>\n",
              "      <th>Cidade</th>\n",
              "      <th>EstadoCivil</th>\n",
              "      <th>Sexo</th>\n",
              "      <th>Ocupacao</th>\n",
              "      <th>AreaAtuacao</th>\n",
              "    </tr>\n",
              "  </thead>\n",
              "  <tbody>\n",
              "    <tr>\n",
              "      <th>0</th>\n",
              "      <td>2</td>\n",
              "      <td>1</td>\n",
              "      <td>2</td>\n",
              "      <td>3</td>\n",
              "      <td>9</td>\n",
              "    </tr>\n",
              "    <tr>\n",
              "      <th>1</th>\n",
              "      <td>6</td>\n",
              "      <td>3</td>\n",
              "      <td>2</td>\n",
              "      <td>2</td>\n",
              "      <td>6</td>\n",
              "    </tr>\n",
              "    <tr>\n",
              "      <th>2</th>\n",
              "      <td>8</td>\n",
              "      <td>3</td>\n",
              "      <td>2</td>\n",
              "      <td>3</td>\n",
              "      <td>2</td>\n",
              "    </tr>\n",
              "    <tr>\n",
              "      <th>3</th>\n",
              "      <td>10</td>\n",
              "      <td>3</td>\n",
              "      <td>1</td>\n",
              "      <td>3</td>\n",
              "      <td>6</td>\n",
              "    </tr>\n",
              "    <tr>\n",
              "      <th>4</th>\n",
              "      <td>9</td>\n",
              "      <td>1</td>\n",
              "      <td>1</td>\n",
              "      <td>0</td>\n",
              "      <td>2</td>\n",
              "    </tr>\n",
              "    <tr>\n",
              "      <th>...</th>\n",
              "      <td>...</td>\n",
              "      <td>...</td>\n",
              "      <td>...</td>\n",
              "      <td>...</td>\n",
              "      <td>...</td>\n",
              "    </tr>\n",
              "    <tr>\n",
              "      <th>1697</th>\n",
              "      <td>4</td>\n",
              "      <td>3</td>\n",
              "      <td>2</td>\n",
              "      <td>4</td>\n",
              "      <td>4</td>\n",
              "    </tr>\n",
              "    <tr>\n",
              "      <th>1698</th>\n",
              "      <td>4</td>\n",
              "      <td>3</td>\n",
              "      <td>2</td>\n",
              "      <td>4</td>\n",
              "      <td>4</td>\n",
              "    </tr>\n",
              "    <tr>\n",
              "      <th>1699</th>\n",
              "      <td>4</td>\n",
              "      <td>3</td>\n",
              "      <td>2</td>\n",
              "      <td>6</td>\n",
              "      <td>5</td>\n",
              "    </tr>\n",
              "    <tr>\n",
              "      <th>1700</th>\n",
              "      <td>5</td>\n",
              "      <td>1</td>\n",
              "      <td>2</td>\n",
              "      <td>3</td>\n",
              "      <td>5</td>\n",
              "    </tr>\n",
              "    <tr>\n",
              "      <th>1701</th>\n",
              "      <td>9</td>\n",
              "      <td>3</td>\n",
              "      <td>2</td>\n",
              "      <td>3</td>\n",
              "      <td>3</td>\n",
              "    </tr>\n",
              "  </tbody>\n",
              "</table>\n",
              "<p>1702 rows × 5 columns</p>\n",
              "</div>"
            ],
            "text/plain": [
              "      Cidade  EstadoCivil  Sexo  Ocupacao  AreaAtuacao\n",
              "0          2            1     2         3            9\n",
              "1          6            3     2         2            6\n",
              "2          8            3     2         3            2\n",
              "3         10            3     1         3            6\n",
              "4          9            1     1         0            2\n",
              "...      ...          ...   ...       ...          ...\n",
              "1697       4            3     2         4            4\n",
              "1698       4            3     2         4            4\n",
              "1699       4            3     2         6            5\n",
              "1700       5            1     2         3            5\n",
              "1701       9            3     2         3            3\n",
              "\n",
              "[1702 rows x 5 columns]"
            ]
          },
          "metadata": {
            "tags": []
          },
          "execution_count": 2658
        }
      ]
    },
    {
      "cell_type": "markdown",
      "metadata": {
        "id": "NkPhZghvG8Dn"
      },
      "source": [
        "## One Hot Encode pra esses dois"
      ]
    },
    {
      "cell_type": "code",
      "metadata": {
        "id": "kpi-R94GvejY"
      },
      "source": [
        "sexo = pd.get_dummies(x_cat['Sexo'], drop_first=False)\n",
        "sexo.columns = ['Sexo_masculino', 'Sexo_feminino']\n",
        "\n",
        "x_cat = pd.concat([x_cat,sexo], axis=1)\n",
        "del x_cat['Sexo']"
      ],
      "execution_count": null,
      "outputs": []
    },
    {
      "cell_type": "code",
      "metadata": {
        "id": "VVussy0pyLVo"
      },
      "source": [
        "estado_civil = pd.get_dummies(x_cat['EstadoCivil'], drop_first=False)\n",
        "estado_civil.columns = ['EstadoCivil_solteiro', 'EstadoCivil_junto', 'EstadoCivil_casado', 'EstadoCivil_viuvo']\n",
        "estado_civil\n",
        "\n",
        "x_cat = pd.concat([x_cat,estado_civil], axis=1)\n",
        "del x_cat['EstadoCivil']"
      ],
      "execution_count": null,
      "outputs": []
    },
    {
      "cell_type": "code",
      "metadata": {
        "colab": {
          "base_uri": "https://localhost:8080/",
          "height": 402
        },
        "id": "CIAgGXEs2c9e",
        "outputId": "c60ba46e-8681-49ba-ee57-172f9a592918"
      },
      "source": [
        "x_cat"
      ],
      "execution_count": null,
      "outputs": [
        {
          "output_type": "execute_result",
          "data": {
            "text/html": [
              "<div>\n",
              "<style scoped>\n",
              "    .dataframe tbody tr th:only-of-type {\n",
              "        vertical-align: middle;\n",
              "    }\n",
              "\n",
              "    .dataframe tbody tr th {\n",
              "        vertical-align: top;\n",
              "    }\n",
              "\n",
              "    .dataframe thead th {\n",
              "        text-align: right;\n",
              "    }\n",
              "</style>\n",
              "<table border=\"1\" class=\"dataframe\">\n",
              "  <thead>\n",
              "    <tr style=\"text-align: right;\">\n",
              "      <th></th>\n",
              "      <th>Cidade</th>\n",
              "      <th>Ocupacao</th>\n",
              "      <th>AreaAtuacao</th>\n",
              "      <th>Sexo_masculino</th>\n",
              "      <th>Sexo_feminino</th>\n",
              "      <th>EstadoCivil_solteiro</th>\n",
              "      <th>EstadoCivil_junto</th>\n",
              "      <th>EstadoCivil_casado</th>\n",
              "      <th>EstadoCivil_viuvo</th>\n",
              "    </tr>\n",
              "  </thead>\n",
              "  <tbody>\n",
              "    <tr>\n",
              "      <th>0</th>\n",
              "      <td>2</td>\n",
              "      <td>3</td>\n",
              "      <td>9</td>\n",
              "      <td>0</td>\n",
              "      <td>1</td>\n",
              "      <td>1</td>\n",
              "      <td>0</td>\n",
              "      <td>0</td>\n",
              "      <td>0</td>\n",
              "    </tr>\n",
              "    <tr>\n",
              "      <th>1</th>\n",
              "      <td>6</td>\n",
              "      <td>2</td>\n",
              "      <td>6</td>\n",
              "      <td>0</td>\n",
              "      <td>1</td>\n",
              "      <td>0</td>\n",
              "      <td>0</td>\n",
              "      <td>1</td>\n",
              "      <td>0</td>\n",
              "    </tr>\n",
              "    <tr>\n",
              "      <th>2</th>\n",
              "      <td>8</td>\n",
              "      <td>3</td>\n",
              "      <td>2</td>\n",
              "      <td>0</td>\n",
              "      <td>1</td>\n",
              "      <td>0</td>\n",
              "      <td>0</td>\n",
              "      <td>1</td>\n",
              "      <td>0</td>\n",
              "    </tr>\n",
              "    <tr>\n",
              "      <th>3</th>\n",
              "      <td>10</td>\n",
              "      <td>3</td>\n",
              "      <td>6</td>\n",
              "      <td>1</td>\n",
              "      <td>0</td>\n",
              "      <td>0</td>\n",
              "      <td>0</td>\n",
              "      <td>1</td>\n",
              "      <td>0</td>\n",
              "    </tr>\n",
              "    <tr>\n",
              "      <th>4</th>\n",
              "      <td>9</td>\n",
              "      <td>0</td>\n",
              "      <td>2</td>\n",
              "      <td>1</td>\n",
              "      <td>0</td>\n",
              "      <td>1</td>\n",
              "      <td>0</td>\n",
              "      <td>0</td>\n",
              "      <td>0</td>\n",
              "    </tr>\n",
              "    <tr>\n",
              "      <th>...</th>\n",
              "      <td>...</td>\n",
              "      <td>...</td>\n",
              "      <td>...</td>\n",
              "      <td>...</td>\n",
              "      <td>...</td>\n",
              "      <td>...</td>\n",
              "      <td>...</td>\n",
              "      <td>...</td>\n",
              "      <td>...</td>\n",
              "    </tr>\n",
              "    <tr>\n",
              "      <th>1697</th>\n",
              "      <td>4</td>\n",
              "      <td>4</td>\n",
              "      <td>4</td>\n",
              "      <td>0</td>\n",
              "      <td>1</td>\n",
              "      <td>0</td>\n",
              "      <td>0</td>\n",
              "      <td>1</td>\n",
              "      <td>0</td>\n",
              "    </tr>\n",
              "    <tr>\n",
              "      <th>1698</th>\n",
              "      <td>4</td>\n",
              "      <td>4</td>\n",
              "      <td>4</td>\n",
              "      <td>0</td>\n",
              "      <td>1</td>\n",
              "      <td>0</td>\n",
              "      <td>0</td>\n",
              "      <td>1</td>\n",
              "      <td>0</td>\n",
              "    </tr>\n",
              "    <tr>\n",
              "      <th>1699</th>\n",
              "      <td>4</td>\n",
              "      <td>6</td>\n",
              "      <td>5</td>\n",
              "      <td>0</td>\n",
              "      <td>1</td>\n",
              "      <td>0</td>\n",
              "      <td>0</td>\n",
              "      <td>1</td>\n",
              "      <td>0</td>\n",
              "    </tr>\n",
              "    <tr>\n",
              "      <th>1700</th>\n",
              "      <td>5</td>\n",
              "      <td>3</td>\n",
              "      <td>5</td>\n",
              "      <td>0</td>\n",
              "      <td>1</td>\n",
              "      <td>1</td>\n",
              "      <td>0</td>\n",
              "      <td>0</td>\n",
              "      <td>0</td>\n",
              "    </tr>\n",
              "    <tr>\n",
              "      <th>1701</th>\n",
              "      <td>9</td>\n",
              "      <td>3</td>\n",
              "      <td>3</td>\n",
              "      <td>0</td>\n",
              "      <td>1</td>\n",
              "      <td>0</td>\n",
              "      <td>0</td>\n",
              "      <td>1</td>\n",
              "      <td>0</td>\n",
              "    </tr>\n",
              "  </tbody>\n",
              "</table>\n",
              "<p>1702 rows × 9 columns</p>\n",
              "</div>"
            ],
            "text/plain": [
              "      Cidade  Ocupacao  ...  EstadoCivil_casado  EstadoCivil_viuvo\n",
              "0          2         3  ...                   0                  0\n",
              "1          6         2  ...                   1                  0\n",
              "2          8         3  ...                   1                  0\n",
              "3         10         3  ...                   1                  0\n",
              "4          9         0  ...                   0                  0\n",
              "...      ...       ...  ...                 ...                ...\n",
              "1697       4         4  ...                   1                  0\n",
              "1698       4         4  ...                   1                  0\n",
              "1699       4         6  ...                   1                  0\n",
              "1700       5         3  ...                   0                  0\n",
              "1701       9         3  ...                   1                  0\n",
              "\n",
              "[1702 rows x 9 columns]"
            ]
          },
          "metadata": {
            "tags": []
          },
          "execution_count": 2661
        }
      ]
    },
    {
      "cell_type": "markdown",
      "metadata": {
        "id": "ZpyHx0CcHBKl"
      },
      "source": [
        "## Feature Hashig para esses três"
      ]
    },
    {
      "cell_type": "code",
      "metadata": {
        "id": "Ecb2IR9ZyWbs"
      },
      "source": [
        "from sklearn.feature_extraction import FeatureHasher"
      ],
      "execution_count": null,
      "outputs": []
    },
    {
      "cell_type": "code",
      "metadata": {
        "id": "6q0n76Lsz-ss"
      },
      "source": [
        "x_cat[['Cidade','Ocupacao','AreaAtuacao']] = x_cat[['Cidade','Ocupacao','AreaAtuacao']].astype('string')"
      ],
      "execution_count": null,
      "outputs": []
    },
    {
      "cell_type": "code",
      "metadata": {
        "id": "SoGeebGbyvdj"
      },
      "source": [
        "fh1 = FeatureHasher(n_features=5, input_type='string')\n",
        "hashed_features = fh1.fit_transform(x_cat['Cidade'])\n",
        "hashed_features = hashed_features.toarray()\n",
        "hashCidade = pd.DataFrame(data = hashed_features,columns = ['Cidade0','Cidade1','Cidade2','Cidade3','Cidade4'])\n",
        "x_cat = pd.concat([x_cat,hashCidade],axis = 1).reset_index(drop = True)\n",
        "del x_cat['Cidade']"
      ],
      "execution_count": null,
      "outputs": []
    },
    {
      "cell_type": "code",
      "metadata": {
        "id": "A4CS2CnW2PiX"
      },
      "source": [
        "fh2 = FeatureHasher(n_features=3, input_type='string')\n",
        "hashed_features = fh2.fit_transform(x_cat['Ocupacao'])\n",
        "hashed_features = hashed_features.toarray()\n",
        "hashOcupacao = pd.DataFrame(data = hashed_features,columns = ['Ocupacao0','Ocupacao1','Ocupacao2'])\n",
        "x_cat = pd.concat([x_cat,hashOcupacao],axis = 1).reset_index(drop = True)\n",
        "del x_cat['Ocupacao']"
      ],
      "execution_count": null,
      "outputs": []
    },
    {
      "cell_type": "code",
      "metadata": {
        "id": "qYb37swf3qgB"
      },
      "source": [
        "fh3 = FeatureHasher(n_features=3, input_type='string')\n",
        "hashed_features = fh3.fit_transform(x_cat['AreaAtuacao'])\n",
        "hashed_features = hashed_features.toarray()\n",
        "hashAreaAtuacao = pd.DataFrame(data = hashed_features,columns = ['AreaAtuacao0','AreaAtuacao1','AreaAtuacao2'])\n",
        "x_cat = pd.concat([x_cat,hashAreaAtuacao],axis = 1).reset_index(drop = True)\n",
        "del x_cat['AreaAtuacao']"
      ],
      "execution_count": null,
      "outputs": []
    },
    {
      "cell_type": "code",
      "metadata": {
        "colab": {
          "base_uri": "https://localhost:8080/",
          "height": 422
        },
        "id": "Z8KPGRn43y-l",
        "outputId": "b7ad3f85-33b0-4c5c-c7d3-a6fd196c9d8f"
      },
      "source": [
        "x_cat"
      ],
      "execution_count": null,
      "outputs": [
        {
          "output_type": "execute_result",
          "data": {
            "text/html": [
              "<div>\n",
              "<style scoped>\n",
              "    .dataframe tbody tr th:only-of-type {\n",
              "        vertical-align: middle;\n",
              "    }\n",
              "\n",
              "    .dataframe tbody tr th {\n",
              "        vertical-align: top;\n",
              "    }\n",
              "\n",
              "    .dataframe thead th {\n",
              "        text-align: right;\n",
              "    }\n",
              "</style>\n",
              "<table border=\"1\" class=\"dataframe\">\n",
              "  <thead>\n",
              "    <tr style=\"text-align: right;\">\n",
              "      <th></th>\n",
              "      <th>Sexo_masculino</th>\n",
              "      <th>Sexo_feminino</th>\n",
              "      <th>EstadoCivil_solteiro</th>\n",
              "      <th>EstadoCivil_junto</th>\n",
              "      <th>EstadoCivil_casado</th>\n",
              "      <th>EstadoCivil_viuvo</th>\n",
              "      <th>Cidade0</th>\n",
              "      <th>Cidade1</th>\n",
              "      <th>Cidade2</th>\n",
              "      <th>Cidade3</th>\n",
              "      <th>Cidade4</th>\n",
              "      <th>Ocupacao0</th>\n",
              "      <th>Ocupacao1</th>\n",
              "      <th>Ocupacao2</th>\n",
              "      <th>AreaAtuacao0</th>\n",
              "      <th>AreaAtuacao1</th>\n",
              "      <th>AreaAtuacao2</th>\n",
              "    </tr>\n",
              "  </thead>\n",
              "  <tbody>\n",
              "    <tr>\n",
              "      <th>0</th>\n",
              "      <td>0</td>\n",
              "      <td>1</td>\n",
              "      <td>1</td>\n",
              "      <td>0</td>\n",
              "      <td>0</td>\n",
              "      <td>0</td>\n",
              "      <td>0.0</td>\n",
              "      <td>1.0</td>\n",
              "      <td>0.0</td>\n",
              "      <td>0.0</td>\n",
              "      <td>0.0</td>\n",
              "      <td>1.0</td>\n",
              "      <td>0.0</td>\n",
              "      <td>0.0</td>\n",
              "      <td>0.0</td>\n",
              "      <td>0.0</td>\n",
              "      <td>1.0</td>\n",
              "    </tr>\n",
              "    <tr>\n",
              "      <th>1</th>\n",
              "      <td>0</td>\n",
              "      <td>1</td>\n",
              "      <td>0</td>\n",
              "      <td>0</td>\n",
              "      <td>1</td>\n",
              "      <td>0</td>\n",
              "      <td>1.0</td>\n",
              "      <td>0.0</td>\n",
              "      <td>0.0</td>\n",
              "      <td>0.0</td>\n",
              "      <td>0.0</td>\n",
              "      <td>1.0</td>\n",
              "      <td>0.0</td>\n",
              "      <td>0.0</td>\n",
              "      <td>0.0</td>\n",
              "      <td>0.0</td>\n",
              "      <td>1.0</td>\n",
              "    </tr>\n",
              "    <tr>\n",
              "      <th>2</th>\n",
              "      <td>0</td>\n",
              "      <td>1</td>\n",
              "      <td>0</td>\n",
              "      <td>0</td>\n",
              "      <td>1</td>\n",
              "      <td>0</td>\n",
              "      <td>0.0</td>\n",
              "      <td>0.0</td>\n",
              "      <td>0.0</td>\n",
              "      <td>-1.0</td>\n",
              "      <td>0.0</td>\n",
              "      <td>1.0</td>\n",
              "      <td>0.0</td>\n",
              "      <td>0.0</td>\n",
              "      <td>1.0</td>\n",
              "      <td>0.0</td>\n",
              "      <td>0.0</td>\n",
              "    </tr>\n",
              "    <tr>\n",
              "      <th>3</th>\n",
              "      <td>1</td>\n",
              "      <td>0</td>\n",
              "      <td>0</td>\n",
              "      <td>0</td>\n",
              "      <td>1</td>\n",
              "      <td>0</td>\n",
              "      <td>0.0</td>\n",
              "      <td>0.0</td>\n",
              "      <td>-1.0</td>\n",
              "      <td>0.0</td>\n",
              "      <td>-1.0</td>\n",
              "      <td>1.0</td>\n",
              "      <td>0.0</td>\n",
              "      <td>0.0</td>\n",
              "      <td>0.0</td>\n",
              "      <td>0.0</td>\n",
              "      <td>1.0</td>\n",
              "    </tr>\n",
              "    <tr>\n",
              "      <th>4</th>\n",
              "      <td>1</td>\n",
              "      <td>0</td>\n",
              "      <td>1</td>\n",
              "      <td>0</td>\n",
              "      <td>0</td>\n",
              "      <td>0</td>\n",
              "      <td>0.0</td>\n",
              "      <td>1.0</td>\n",
              "      <td>0.0</td>\n",
              "      <td>0.0</td>\n",
              "      <td>0.0</td>\n",
              "      <td>0.0</td>\n",
              "      <td>-1.0</td>\n",
              "      <td>0.0</td>\n",
              "      <td>1.0</td>\n",
              "      <td>0.0</td>\n",
              "      <td>0.0</td>\n",
              "    </tr>\n",
              "    <tr>\n",
              "      <th>...</th>\n",
              "      <td>...</td>\n",
              "      <td>...</td>\n",
              "      <td>...</td>\n",
              "      <td>...</td>\n",
              "      <td>...</td>\n",
              "      <td>...</td>\n",
              "      <td>...</td>\n",
              "      <td>...</td>\n",
              "      <td>...</td>\n",
              "      <td>...</td>\n",
              "      <td>...</td>\n",
              "      <td>...</td>\n",
              "      <td>...</td>\n",
              "      <td>...</td>\n",
              "      <td>...</td>\n",
              "      <td>...</td>\n",
              "      <td>...</td>\n",
              "    </tr>\n",
              "    <tr>\n",
              "      <th>1697</th>\n",
              "      <td>0</td>\n",
              "      <td>1</td>\n",
              "      <td>0</td>\n",
              "      <td>0</td>\n",
              "      <td>1</td>\n",
              "      <td>0</td>\n",
              "      <td>0.0</td>\n",
              "      <td>0.0</td>\n",
              "      <td>-1.0</td>\n",
              "      <td>0.0</td>\n",
              "      <td>0.0</td>\n",
              "      <td>0.0</td>\n",
              "      <td>0.0</td>\n",
              "      <td>-1.0</td>\n",
              "      <td>0.0</td>\n",
              "      <td>0.0</td>\n",
              "      <td>-1.0</td>\n",
              "    </tr>\n",
              "    <tr>\n",
              "      <th>1698</th>\n",
              "      <td>0</td>\n",
              "      <td>1</td>\n",
              "      <td>0</td>\n",
              "      <td>0</td>\n",
              "      <td>1</td>\n",
              "      <td>0</td>\n",
              "      <td>0.0</td>\n",
              "      <td>0.0</td>\n",
              "      <td>-1.0</td>\n",
              "      <td>0.0</td>\n",
              "      <td>0.0</td>\n",
              "      <td>0.0</td>\n",
              "      <td>0.0</td>\n",
              "      <td>-1.0</td>\n",
              "      <td>0.0</td>\n",
              "      <td>0.0</td>\n",
              "      <td>-1.0</td>\n",
              "    </tr>\n",
              "    <tr>\n",
              "      <th>1699</th>\n",
              "      <td>0</td>\n",
              "      <td>1</td>\n",
              "      <td>0</td>\n",
              "      <td>0</td>\n",
              "      <td>1</td>\n",
              "      <td>0</td>\n",
              "      <td>0.0</td>\n",
              "      <td>0.0</td>\n",
              "      <td>-1.0</td>\n",
              "      <td>0.0</td>\n",
              "      <td>0.0</td>\n",
              "      <td>0.0</td>\n",
              "      <td>0.0</td>\n",
              "      <td>1.0</td>\n",
              "      <td>1.0</td>\n",
              "      <td>0.0</td>\n",
              "      <td>0.0</td>\n",
              "    </tr>\n",
              "    <tr>\n",
              "      <th>1700</th>\n",
              "      <td>0</td>\n",
              "      <td>1</td>\n",
              "      <td>1</td>\n",
              "      <td>0</td>\n",
              "      <td>0</td>\n",
              "      <td>0</td>\n",
              "      <td>1.0</td>\n",
              "      <td>0.0</td>\n",
              "      <td>0.0</td>\n",
              "      <td>0.0</td>\n",
              "      <td>0.0</td>\n",
              "      <td>1.0</td>\n",
              "      <td>0.0</td>\n",
              "      <td>0.0</td>\n",
              "      <td>1.0</td>\n",
              "      <td>0.0</td>\n",
              "      <td>0.0</td>\n",
              "    </tr>\n",
              "    <tr>\n",
              "      <th>1701</th>\n",
              "      <td>0</td>\n",
              "      <td>1</td>\n",
              "      <td>0</td>\n",
              "      <td>0</td>\n",
              "      <td>1</td>\n",
              "      <td>0</td>\n",
              "      <td>0.0</td>\n",
              "      <td>1.0</td>\n",
              "      <td>0.0</td>\n",
              "      <td>0.0</td>\n",
              "      <td>0.0</td>\n",
              "      <td>1.0</td>\n",
              "      <td>0.0</td>\n",
              "      <td>0.0</td>\n",
              "      <td>1.0</td>\n",
              "      <td>0.0</td>\n",
              "      <td>0.0</td>\n",
              "    </tr>\n",
              "  </tbody>\n",
              "</table>\n",
              "<p>1702 rows × 17 columns</p>\n",
              "</div>"
            ],
            "text/plain": [
              "      Sexo_masculino  Sexo_feminino  ...  AreaAtuacao1  AreaAtuacao2\n",
              "0                  0              1  ...           0.0           1.0\n",
              "1                  0              1  ...           0.0           1.0\n",
              "2                  0              1  ...           0.0           0.0\n",
              "3                  1              0  ...           0.0           1.0\n",
              "4                  1              0  ...           0.0           0.0\n",
              "...              ...            ...  ...           ...           ...\n",
              "1697               0              1  ...           0.0          -1.0\n",
              "1698               0              1  ...           0.0          -1.0\n",
              "1699               0              1  ...           0.0           0.0\n",
              "1700               0              1  ...           0.0           0.0\n",
              "1701               0              1  ...           0.0           0.0\n",
              "\n",
              "[1702 rows x 17 columns]"
            ]
          },
          "metadata": {
            "tags": []
          },
          "execution_count": 2667
        }
      ]
    },
    {
      "cell_type": "code",
      "metadata": {
        "id": "AS54ANaB38ML"
      },
      "source": [
        "df_cat = pd.concat([x_cat,y_train],axis = 1)"
      ],
      "execution_count": null,
      "outputs": []
    },
    {
      "cell_type": "code",
      "metadata": {
        "id": "8RJKyRID4GGy"
      },
      "source": [
        "x_train_novo = pd.concat([x_num_dec,x_cat],axis =  1)"
      ],
      "execution_count": null,
      "outputs": []
    },
    {
      "cell_type": "code",
      "metadata": {
        "id": "KePVapY7EScO"
      },
      "source": [
        ""
      ],
      "execution_count": null,
      "outputs": []
    },
    {
      "cell_type": "markdown",
      "metadata": {
        "id": "kPtvuhovEU2-"
      },
      "source": [
        "## Acertando o conjunto de treino"
      ]
    },
    {
      "cell_type": "code",
      "metadata": {
        "id": "7B0CKXJ-9aS-"
      },
      "source": [
        "x_num_test = x_test[featNum].drop(columns = ['Computador','NumeroFilhos'])\n",
        "x_num_test.NivelGerencial = x_num_test.NivelGerencial -1\n",
        "x_cat_test = x_test[featCat]"
      ],
      "execution_count": null,
      "outputs": []
    },
    {
      "cell_type": "code",
      "metadata": {
        "id": "LcAQE-WN9STS"
      },
      "source": [
        "x_test_norm = (x_num_test-x_num_mean)/x_num_std"
      ],
      "execution_count": null,
      "outputs": []
    },
    {
      "cell_type": "code",
      "metadata": {
        "id": "05vbdU1e9ti0"
      },
      "source": [
        "x_test_dec = np.dot(x_test_norm,x_avet)"
      ],
      "execution_count": null,
      "outputs": []
    },
    {
      "cell_type": "code",
      "metadata": {
        "id": "ejWthz9K-bnS"
      },
      "source": [
        "x_test_dec = pd.DataFrame(x_test_dec,columns = ['PC0','PC1','PC2','PC3'])"
      ],
      "execution_count": null,
      "outputs": []
    },
    {
      "cell_type": "code",
      "metadata": {
        "id": "z3vKx3G2-1zI"
      },
      "source": [
        "sexo = pd.get_dummies(x_cat_test['Sexo'], drop_first=False)\n",
        "sexo.columns = ['Sexo_masculino', 'Sexo_feminino']\n",
        "\n",
        "x_cat_test = pd.concat([x_cat_test,sexo], axis=1)\n",
        "del x_cat_test['Sexo']  "
      ],
      "execution_count": null,
      "outputs": []
    },
    {
      "cell_type": "code",
      "metadata": {
        "id": "9C9tGfuh-1zJ"
      },
      "source": [
        "estado_civil = pd.get_dummies(x_cat_test['EstadoCivil'], drop_first=False)\n",
        "estado_civil.columns = ['EstadoCivil_solteiro', 'EstadoCivil_junto', 'EstadoCivil_casado', 'EstadoCivil_viuvo']\n",
        "estado_civil\n",
        "\n",
        "x_cat_test = pd.concat([x_cat_test,estado_civil], axis=1)\n",
        "del x_cat_test['EstadoCivil']"
      ],
      "execution_count": null,
      "outputs": []
    },
    {
      "cell_type": "code",
      "metadata": {
        "id": "2pq4AX47-1zJ"
      },
      "source": [
        "x_cat_test[['Cidade','Ocupacao','AreaAtuacao']] = x_cat_test[['Cidade','Ocupacao','AreaAtuacao']].astype('string')"
      ],
      "execution_count": null,
      "outputs": []
    },
    {
      "cell_type": "code",
      "metadata": {
        "id": "Q8QWXOfK-1zJ"
      },
      "source": [
        "hashed_features = fh1.transform(x_cat_test['Cidade'])\n",
        "hashed_features = hashed_features.toarray()\n",
        "hashCidade = pd.DataFrame(data = hashed_features,columns = ['Cidade0','Cidade1','Cidade2','Cidade3','Cidade4'])\n",
        "x_cat_test = pd.concat([x_cat_test,hashCidade],axis = 1).reset_index(drop = True)\n",
        "del x_cat_test['Cidade']"
      ],
      "execution_count": null,
      "outputs": []
    },
    {
      "cell_type": "code",
      "metadata": {
        "id": "PUxG_tA9-1zJ"
      },
      "source": [
        "hashed_features = fh2.transform(x_cat_test['Ocupacao'])\n",
        "hashed_features = hashed_features.toarray()\n",
        "hashOcupacao = pd.DataFrame(data = hashed_features,columns = ['Ocupacao0','Ocupacao1','Ocupacao2'])\n",
        "x_cat_test = pd.concat([x_cat_test,hashOcupacao],axis = 1).reset_index(drop = True)\n",
        "del x_cat_test['Ocupacao']"
      ],
      "execution_count": null,
      "outputs": []
    },
    {
      "cell_type": "code",
      "metadata": {
        "id": "TbByQhL7-1zK"
      },
      "source": [
        "hashed_features = fh3.transform(x_cat_test['AreaAtuacao'])\n",
        "hashed_features = hashed_features.toarray()\n",
        "hashAreaAtuacao = pd.DataFrame(data = hashed_features,columns = ['AreaAtuacao0','AreaAtuacao1','AreaAtuacao2'])\n",
        "x_cat_test = pd.concat([x_cat_test,hashAreaAtuacao],axis = 1).reset_index(drop = True)\n",
        "del x_cat_test['AreaAtuacao']"
      ],
      "execution_count": null,
      "outputs": []
    },
    {
      "cell_type": "code",
      "metadata": {
        "id": "6s98n2Y1-1zK"
      },
      "source": [
        "x_test_novo = pd.concat([x_test_dec,x_cat_test],axis =  1)"
      ],
      "execution_count": null,
      "outputs": []
    },
    {
      "cell_type": "markdown",
      "metadata": {
        "id": "LPa0GIBQ5E5X"
      },
      "source": [
        "## Algoritmos de ML"
      ]
    },
    {
      "cell_type": "markdown",
      "metadata": {
        "id": "sFbjzRpUqlfz"
      },
      "source": [
        "SVM"
      ]
    },
    {
      "cell_type": "code",
      "metadata": {
        "id": "2grMJYJ363Q0"
      },
      "source": [
        "from sklearn.svm import SVC\n",
        "from sklearn.metrics import classification_report, confusion_matrix, accuracy_score"
      ],
      "execution_count": null,
      "outputs": []
    },
    {
      "cell_type": "code",
      "metadata": {
        "colab": {
          "base_uri": "https://localhost:8080/"
        },
        "id": "Odit_kxN87M9",
        "outputId": "105082df-9c4d-4ae4-bc84-73e9a157cc5a"
      },
      "source": [
        "svm = SVC(C=1.0,\n",
        "          kernel='sigmoid',        #kernel{‘linear’, ‘poly’, ‘rbf’, ‘sigmoid’, ‘precomputed’}, default=’rbf’       \n",
        "          gamma='auto' ,           # se gamma='scale'(padrão) é passado, então ele usa 1 / (n_features * X.var ()) como valor de gama,\n",
        "                                   # se 'auto', usa 1 / n_features.\n",
        "          degree = 3,              # grau do polinomio para kernel poly\n",
        "          coef0 = 5,               # usa em poly e sigmoid\n",
        "          tol=0.1,               # Tolerância para critério de parada.\n",
        "          cache_size=2048,         # Especifique o tamanho do cache do kernel (em MB).\n",
        "          verbose= False, \n",
        "          max_iter=-1,             # Limite rígido nas iterações no solver ou -1 para nenhum limite.\n",
        "          )\n",
        "\n",
        "svm.fit(x_train_novo, y_train.values.ravel())\n",
        "\n",
        "print(\"Treino\\n\")\n",
        "predictions = svm.predict(x_train_novo)\n",
        "print(confusion_matrix(y_train,predictions))\n",
        "print(classification_report(y_train,predictions))\n",
        "\n",
        "print(\"\\n Teste\\n\")\n",
        "predictionsTestSvm = svm.predict(x_test_novo)\n",
        "print(confusion_matrix(y_test,predictionsTestSvm))\n",
        "print(classification_report(y_test,predictionsTestSvm))"
      ],
      "execution_count": null,
      "outputs": [
        {
          "output_type": "stream",
          "text": [
            "Treino\n",
            "\n",
            "[[724 127]\n",
            " [118 733]]\n",
            "              precision    recall  f1-score   support\n",
            "\n",
            "         0.0       0.86      0.85      0.86       851\n",
            "         1.0       0.85      0.86      0.86       851\n",
            "\n",
            "    accuracy                           0.86      1702\n",
            "   macro avg       0.86      0.86      0.86      1702\n",
            "weighted avg       0.86      0.86      0.86      1702\n",
            "\n",
            "\n",
            " Teste\n",
            "\n",
            "[[178  35]\n",
            " [112 813]]\n",
            "              precision    recall  f1-score   support\n",
            "\n",
            "         0.0       0.61      0.84      0.71       213\n",
            "         1.0       0.96      0.88      0.92       925\n",
            "\n",
            "    accuracy                           0.87      1138\n",
            "   macro avg       0.79      0.86      0.81      1138\n",
            "weighted avg       0.89      0.87      0.88      1138\n",
            "\n"
          ],
          "name": "stdout"
        }
      ]
    },
    {
      "cell_type": "code",
      "metadata": {
        "id": "cj2wWgqq_zYS"
      },
      "source": [
        ""
      ],
      "execution_count": null,
      "outputs": []
    },
    {
      "cell_type": "markdown",
      "metadata": {
        "id": "amTgdboZqpGH"
      },
      "source": [
        "MLP"
      ]
    },
    {
      "cell_type": "code",
      "metadata": {
        "id": "BdsEAmHPDj_r"
      },
      "source": [
        "from sklearn.neural_network import MLPClassifier"
      ],
      "execution_count": null,
      "outputs": []
    },
    {
      "cell_type": "code",
      "metadata": {
        "colab": {
          "base_uri": "https://localhost:8080/"
        },
        "id": "MoYHQIcBDkTO",
        "outputId": "82494b21-30e4-432d-ccb1-f34a575a8326"
      },
      "source": [
        "mlp1 = MLPClassifier(solver = 'sgd',    #adam, sgd, lbfgs\n",
        "                     activation ='relu',       #identity, logistic, tanh, relu\n",
        "                     hidden_layer_sizes=(8,8), \n",
        "                     alpha = 0.1,\n",
        "                     learning_rate = 'constant',    #constant, invscaling, adaptive . só para sgd\n",
        "                     learning_rate_init = 0.005,    #so para sgd\n",
        "                     power_t = 0.1,                 #so para sgd, usando invscaling\n",
        "                     momentum = 0.9,                #so para sgd\n",
        "                     nesterovs_momentum = True,      #so para sgd e se momentum > 0\n",
        "                     beta_1 = 0.8,                  #so para adam\n",
        "                     beta_2 = 0.9,                  #so para adam\n",
        "                     epsilon = 1e-6,                #so para adam\n",
        "                     tol = 1e-3,\n",
        "                     max_iter=1000,\n",
        "                     verbose = False, \n",
        "                     early_stopping= True,\n",
        "                     validation_fraction= 0.2,      #so se early stopping = true\n",
        "                     shuffle = True, \n",
        "                     n_iter_no_change = 50)\n",
        "\n",
        "\n",
        "\n",
        "mlp1.fit(x_train_novo, \n",
        "         y_train.values.ravel())\n",
        "predictions = mlp1.predict(x_train_novo)\n",
        "print(\"Treino\\n\")\n",
        "print(confusion_matrix(y_train,predictions))\n",
        "print(classification_report(y_train,predictions))\n",
        "print(\"\\n Teste \\n\")\n",
        "predictionsTestMlp = mlp1.predict(x_test_novo)\n",
        "print(confusion_matrix(y_test,predictionsTestMlp))\n",
        "print(classification_report(y_test,predictionsTestMlp))"
      ],
      "execution_count": null,
      "outputs": [
        {
          "output_type": "stream",
          "text": [
            "Treino\n",
            "\n",
            "[[685 166]\n",
            " [101 750]]\n",
            "              precision    recall  f1-score   support\n",
            "\n",
            "         0.0       0.87      0.80      0.84       851\n",
            "         1.0       0.82      0.88      0.85       851\n",
            "\n",
            "    accuracy                           0.84      1702\n",
            "   macro avg       0.85      0.84      0.84      1702\n",
            "weighted avg       0.85      0.84      0.84      1702\n",
            "\n",
            "\n",
            " Teste \n",
            "\n",
            "[[173  40]\n",
            " [ 89 836]]\n",
            "              precision    recall  f1-score   support\n",
            "\n",
            "         0.0       0.66      0.81      0.73       213\n",
            "         1.0       0.95      0.90      0.93       925\n",
            "\n",
            "    accuracy                           0.89      1138\n",
            "   macro avg       0.81      0.86      0.83      1138\n",
            "weighted avg       0.90      0.89      0.89      1138\n",
            "\n"
          ],
          "name": "stdout"
        }
      ]
    },
    {
      "cell_type": "markdown",
      "metadata": {
        "id": "ZREymxMAzU5R"
      },
      "source": [
        "## Lucros\n"
      ]
    },
    {
      "cell_type": "markdown",
      "metadata": {
        "id": "7qcup_764zt1"
      },
      "source": [
        "Se enviar para todos do \"Teste\""
      ]
    },
    {
      "cell_type": "code",
      "metadata": {
        "colab": {
          "base_uri": "https://localhost:8080/"
        },
        "id": "X9qlk9SI4zDp",
        "outputId": "fc97df6e-b344-496a-ea16-b4ecc6b07843"
      },
      "source": [
        "df_test['Lucro'].sum()"
      ],
      "execution_count": null,
      "outputs": [
        {
          "output_type": "execute_result",
          "data": {
            "text/plain": [
              "20766.38"
            ]
          },
          "metadata": {
            "tags": []
          },
          "execution_count": 2685
        }
      ]
    },
    {
      "cell_type": "markdown",
      "metadata": {
        "id": "cNqEbIUl45GZ"
      },
      "source": [
        "Se usar os algoritmos:"
      ]
    },
    {
      "cell_type": "code",
      "metadata": {
        "colab": {
          "base_uri": "https://localhost:8080/"
        },
        "id": "4tPtSV3izW5j",
        "outputId": "ea5e01f6-5788-4157-d1b5-3cb54ae41f15"
      },
      "source": [
        "df_test.loc[(predictionsTestSvm == 1), 'Lucro'].sum()"
      ],
      "execution_count": null,
      "outputs": [
        {
          "output_type": "execute_result",
          "data": {
            "text/plain": [
              "22940.86"
            ]
          },
          "metadata": {
            "tags": []
          },
          "execution_count": 2686
        }
      ]
    },
    {
      "cell_type": "code",
      "metadata": {
        "colab": {
          "base_uri": "https://localhost:8080/"
        },
        "id": "Nxhagyk431-P",
        "outputId": "cf3f559d-e75b-41f5-9b17-95b2eeb53eb2"
      },
      "source": [
        "df_test.loc[(predictionsTestMlp == 1), 'Lucro'].sum()"
      ],
      "execution_count": null,
      "outputs": [
        {
          "output_type": "execute_result",
          "data": {
            "text/plain": [
              "23067.61"
            ]
          },
          "metadata": {
            "tags": []
          },
          "execution_count": 2687
        }
      ]
    },
    {
      "cell_type": "markdown",
      "metadata": {
        "id": "14LKCWUUNtnM"
      },
      "source": [
        "## Contrapondo Prospect no Modelo para ver quem tem maior acurácia\n"
      ]
    },
    {
      "cell_type": "code",
      "metadata": {
        "id": "M8w2p_n0LlDj"
      },
      "source": [
        "df2 = pd.read_excel(\"/content/gdrive/My Drive/CIÊNCIA DA COMPUTAÇÃO/CNN/Profile_Prospect.xls\").drop(columns = ['ClienteNo'])"
      ],
      "execution_count": null,
      "outputs": []
    },
    {
      "cell_type": "code",
      "metadata": {
        "id": "ItkYSn1j4SWR"
      },
      "source": [
        "df2['Lucro'] = df2['PrimeiraCompra'].copy() - 42"
      ],
      "execution_count": null,
      "outputs": []
    },
    {
      "cell_type": "code",
      "metadata": {
        "id": "ksDYWYYqZqT3"
      },
      "source": [
        "df2.NivelGerencial = df2.NivelGerencial - 1"
      ],
      "execution_count": null,
      "outputs": []
    },
    {
      "cell_type": "code",
      "metadata": {
        "id": "mPSUSg4sL2rL"
      },
      "source": [
        "df2.loc[df2.PrimeiraCompra < 42, \"PrimeiraCompra\"] = 0\n",
        "df2.loc[df2.PrimeiraCompra >=42, \"PrimeiraCompra\"] = 1"
      ],
      "execution_count": null,
      "outputs": []
    },
    {
      "cell_type": "code",
      "metadata": {
        "id": "2FJyD3iuL2rL"
      },
      "source": [
        "x_prof = df2.drop(columns = 'PrimeiraCompra')\n",
        "y_prof = df2['PrimeiraCompra']"
      ],
      "execution_count": null,
      "outputs": []
    },
    {
      "cell_type": "code",
      "metadata": {
        "id": "I6TZ6gCIL2rM"
      },
      "source": [
        "featNum = ['Idade','NumeroFilhos','Escolaridade','NivelGerencial','TipoResidencia','CondicaoResidencia','ValorImovel','NoAutomoveis','Computador']\n",
        "featCat = ['Cidade','EstadoCivil','Sexo','Ocupacao','AreaAtuacao']"
      ],
      "execution_count": null,
      "outputs": []
    },
    {
      "cell_type": "code",
      "metadata": {
        "id": "YvyWmbt2L2rM"
      },
      "source": [
        "x_num_prof = x_prof[featNum].reset_index(drop = True)\n",
        "x_cat_prof = x_prof[featCat].reset_index(drop = True)"
      ],
      "execution_count": null,
      "outputs": []
    },
    {
      "cell_type": "code",
      "metadata": {
        "id": "I3N0OeXKL2rM"
      },
      "source": [
        "x_num_prof = x_prof[featNum].drop(columns = ['Computador','NumeroFilhos'])\n",
        "x_cat_prof = x_prof[featCat]"
      ],
      "execution_count": null,
      "outputs": []
    },
    {
      "cell_type": "code",
      "metadata": {
        "id": "kPv2kEqhL2rM"
      },
      "source": [
        "x_prof_norm = (x_num_prof-x_num_mean)/x_num_std"
      ],
      "execution_count": null,
      "outputs": []
    },
    {
      "cell_type": "code",
      "metadata": {
        "id": "n2Ee8rdPL2rM"
      },
      "source": [
        "x_prof_dec = np.dot(x_prof_norm,x_avet)"
      ],
      "execution_count": null,
      "outputs": []
    },
    {
      "cell_type": "code",
      "metadata": {
        "id": "44rw6yrlL2rM"
      },
      "source": [
        "x_prof_dec = pd.DataFrame(x_prof_dec,columns = ['PC0','PC1','PC2','PC3'])"
      ],
      "execution_count": null,
      "outputs": []
    },
    {
      "cell_type": "code",
      "metadata": {
        "id": "HHqjEHqEL2rN"
      },
      "source": [
        "sexo = pd.get_dummies(x_cat_prof['Sexo'], drop_first=False)\n",
        "sexo.columns = ['Sexo_masculino', 'Sexo_feminino']\n",
        "\n",
        "x_cat_prof = pd.concat([x_cat_prof,sexo], axis=1)\n",
        "del x_cat_prof['Sexo']  "
      ],
      "execution_count": null,
      "outputs": []
    },
    {
      "cell_type": "code",
      "metadata": {
        "id": "OiptMcGiL2rN"
      },
      "source": [
        "estado_civil = pd.get_dummies(x_cat_prof['EstadoCivil'], drop_first=False)\n",
        "estado_civil.columns = ['EstadoCivil_solteiro', 'EstadoCivil_junto', 'EstadoCivil_casado', 'EstadoCivil_viuvo']\n",
        "estado_civil\n",
        "\n",
        "x_cat_prof = pd.concat([x_cat_prof,estado_civil], axis=1)\n",
        "del x_cat_prof['EstadoCivil']"
      ],
      "execution_count": null,
      "outputs": []
    },
    {
      "cell_type": "code",
      "metadata": {
        "id": "3c7foqLiL2rN"
      },
      "source": [
        "x_cat_prof[['Cidade','Ocupacao','AreaAtuacao']] = x_cat_prof[['Cidade','Ocupacao','AreaAtuacao']].astype('string')"
      ],
      "execution_count": null,
      "outputs": []
    },
    {
      "cell_type": "code",
      "metadata": {
        "id": "cYWf90gmL2rN"
      },
      "source": [
        "hashed_features = fh1.transform(x_cat_prof['Cidade'])\n",
        "hashed_features = hashed_features.toarray()\n",
        "hashCidade = pd.DataFrame(data = hashed_features,columns = ['Cidade0','Cidade1','Cidade2','Cidade3','Cidade4'])\n",
        "x_cat_prof = pd.concat([x_cat_prof,hashCidade],axis = 1).reset_index(drop = True)\n",
        "del x_cat_prof['Cidade']"
      ],
      "execution_count": null,
      "outputs": []
    },
    {
      "cell_type": "code",
      "metadata": {
        "id": "6jZK26twL2rN"
      },
      "source": [
        "hashed_features = fh2.transform(x_cat_prof['Ocupacao'])\n",
        "hashed_features = hashed_features.toarray()\n",
        "hashOcupacao = pd.DataFrame(data = hashed_features,columns = ['Ocupacao0','Ocupacao1','Ocupacao2'])\n",
        "x_cat_prof = pd.concat([x_cat_prof,hashOcupacao],axis = 1).reset_index(drop = True)\n",
        "del x_cat_prof['Ocupacao']"
      ],
      "execution_count": null,
      "outputs": []
    },
    {
      "cell_type": "code",
      "metadata": {
        "id": "B-MDO4jkL2rN"
      },
      "source": [
        "hashed_features = fh3.transform(x_cat_prof['AreaAtuacao'])\n",
        "hashed_features = hashed_features.toarray()\n",
        "hashAreaAtuacao = pd.DataFrame(data = hashed_features,columns = ['AreaAtuacao0','AreaAtuacao1','AreaAtuacao2'])\n",
        "x_cat_prof = pd.concat([x_cat_prof,hashAreaAtuacao],axis = 1).reset_index(drop = True)\n",
        "del x_cat_prof['AreaAtuacao']"
      ],
      "execution_count": null,
      "outputs": []
    },
    {
      "cell_type": "code",
      "metadata": {
        "id": "Asep4bfVL2rO"
      },
      "source": [
        "x_prof_novo = pd.concat([x_prof_dec,x_cat_prof],axis =  1)"
      ],
      "execution_count": null,
      "outputs": []
    },
    {
      "cell_type": "code",
      "metadata": {
        "colab": {
          "base_uri": "https://localhost:8080/"
        },
        "id": "QUjtm_MJMAPN",
        "outputId": "d5afaf02-fcda-4c41-fd52-d2acf86759ea"
      },
      "source": [
        "predictionsProfSVM = svm.predict(x_prof_novo)\n",
        "print(confusion_matrix(y_prof,predictionsProfSVM))\n",
        "print(classification_report(y_prof,predictionsProfSVM))"
      ],
      "execution_count": null,
      "outputs": [
        {
          "output_type": "stream",
          "text": [
            "[[ 752  168]\n",
            " [ 280 1256]]\n",
            "              precision    recall  f1-score   support\n",
            "\n",
            "         0.0       0.73      0.82      0.77       920\n",
            "         1.0       0.88      0.82      0.85      1536\n",
            "\n",
            "    accuracy                           0.82      2456\n",
            "   macro avg       0.81      0.82      0.81      2456\n",
            "weighted avg       0.82      0.82      0.82      2456\n",
            "\n"
          ],
          "name": "stdout"
        }
      ]
    },
    {
      "cell_type": "code",
      "metadata": {
        "colab": {
          "base_uri": "https://localhost:8080/"
        },
        "id": "iQTS4mifMAPO",
        "outputId": "07222bda-620b-4ce9-ba38-0bd800f14214"
      },
      "source": [
        "predictionsProfMLP = mlp1.predict(x_prof_novo)\n",
        "print(confusion_matrix(y_prof,predictionsProfMLP))\n",
        "print(classification_report(y_prof,predictionsProfMLP))"
      ],
      "execution_count": null,
      "outputs": [
        {
          "output_type": "stream",
          "text": [
            "[[ 714  206]\n",
            " [ 246 1290]]\n",
            "              precision    recall  f1-score   support\n",
            "\n",
            "         0.0       0.74      0.78      0.76       920\n",
            "         1.0       0.86      0.84      0.85      1536\n",
            "\n",
            "    accuracy                           0.82      2456\n",
            "   macro avg       0.80      0.81      0.81      2456\n",
            "weighted avg       0.82      0.82      0.82      2456\n",
            "\n"
          ],
          "name": "stdout"
        }
      ]
    },
    {
      "cell_type": "markdown",
      "metadata": {
        "id": "o3qDg-kG36cG"
      },
      "source": [
        "Lucros se mandasse pra todos"
      ]
    },
    {
      "cell_type": "code",
      "metadata": {
        "colab": {
          "base_uri": "https://localhost:8080/"
        },
        "id": "Lst1K0yT4JsK",
        "outputId": "e415d943-2fe4-42a8-d11d-491b89f9ff78"
      },
      "source": [
        "df2['Lucro'].sum()"
      ],
      "execution_count": null,
      "outputs": [
        {
          "output_type": "execute_result",
          "data": {
            "text/plain": [
              "27290.28"
            ]
          },
          "metadata": {
            "tags": []
          },
          "execution_count": 2708
        }
      ]
    },
    {
      "cell_type": "markdown",
      "metadata": {
        "id": "8bjLmy4t5OUu"
      },
      "source": [
        "Lucro se mandar apenas para aqueles que o algoritmo predisse"
      ]
    },
    {
      "cell_type": "code",
      "metadata": {
        "colab": {
          "base_uri": "https://localhost:8080/"
        },
        "id": "UPx5QdQL38b6",
        "outputId": "a345648a-23a4-46e5-fbb7-9351cd568b62"
      },
      "source": [
        "df2.loc[(predictionsProfSVM == 1), 'Lucro'].sum()"
      ],
      "execution_count": null,
      "outputs": [
        {
          "output_type": "execute_result",
          "data": {
            "text/plain": [
              "36974.47"
            ]
          },
          "metadata": {
            "tags": []
          },
          "execution_count": 2709
        }
      ]
    },
    {
      "cell_type": "code",
      "metadata": {
        "colab": {
          "base_uri": "https://localhost:8080/"
        },
        "id": "6tsEcfXb5C4X",
        "outputId": "10a25b42-7d63-4317-beff-3301184b5968"
      },
      "source": [
        "df2.loc[(predictionsProfMLP == 1), 'Lucro'].sum()"
      ],
      "execution_count": null,
      "outputs": [
        {
          "output_type": "execute_result",
          "data": {
            "text/plain": [
              "37128.46"
            ]
          },
          "metadata": {
            "tags": []
          },
          "execution_count": 2710
        }
      ]
    }
  ]
}