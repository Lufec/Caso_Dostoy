{
  "nbformat": 4,
  "nbformat_minor": 0,
  "metadata": {
    "colab": {
      "name": "Dostoy_3classes.ipynb",
      "provenance": [],
      "collapsed_sections": [
        "Rs0MS0qBugqc",
        "NkPhZghvG8Dn",
        "ZpyHx0CcHBKl",
        "kPtvuhovEU2-",
        "LPa0GIBQ5E5X",
        "eMAj6y6pLpAk"
      ],
      "authorship_tag": "ABX9TyNXuvnYJp6W9y7CIvYj4dyf",
      "include_colab_link": true
    },
    "kernelspec": {
      "display_name": "Python 3",
      "name": "python3"
    }
  },
  "cells": [
    {
      "cell_type": "markdown",
      "metadata": {
        "id": "view-in-github",
        "colab_type": "text"
      },
      "source": [
        "<a href=\"https://colab.research.google.com/github/Lufec/Caso_Dostoy/blob/main/Dostoy_3classes.ipynb\" target=\"_parent\"><img src=\"https://colab.research.google.com/assets/colab-badge.svg\" alt=\"Open In Colab\"/></a>"
      ]
    },
    {
      "cell_type": "code",
      "metadata": {
        "id": "qRhlRyFhXIG5"
      },
      "source": [
        "import numpy as np\n",
        "import pandas as pd\n",
        "import matplotlib.pyplot as plt\n",
        "import seaborn as sns\n",
        "from sklearn.model_selection import train_test_split"
      ],
      "execution_count": null,
      "outputs": []
    },
    {
      "cell_type": "code",
      "metadata": {
        "id": "FpFmgJ6QoYx9"
      },
      "source": [
        "np.set_printoptions(precision = 5,edgeitems = 11, linewidth = 200, suppress = True)"
      ],
      "execution_count": null,
      "outputs": []
    },
    {
      "cell_type": "code",
      "metadata": {
        "colab": {
          "base_uri": "https://localhost:8080/"
        },
        "id": "zKXpDQChXNHw",
        "outputId": "c41e271c-8b37-4497-d21c-9785d78bf7e8"
      },
      "source": [
        "from google.colab import drive\n",
        "drive.mount('/content/gdrive')"
      ],
      "execution_count": null,
      "outputs": [
        {
          "output_type": "stream",
          "text": [
            "Drive already mounted at /content/gdrive; to attempt to forcibly remount, call drive.mount(\"/content/gdrive\", force_remount=True).\n"
          ],
          "name": "stdout"
        }
      ]
    },
    {
      "cell_type": "code",
      "metadata": {
        "id": "4k4W8xclXOgv"
      },
      "source": [
        "df = pd.read_excel(\"/content/gdrive/My Drive/CIÊNCIA DA COMPUTAÇÃO/CNN/Dolstoy_Profile.xls\").drop(columns = 'ClienteNo')"
      ],
      "execution_count": null,
      "outputs": []
    },
    {
      "cell_type": "markdown",
      "metadata": {
        "id": "RTze2M6RGjEb"
      },
      "source": [
        "Separar target em labels"
      ]
    },
    {
      "cell_type": "code",
      "metadata": {
        "colab": {
          "base_uri": "https://localhost:8080/"
        },
        "id": "e7k6vh8AGiUJ",
        "outputId": "0c9990a6-9c30-415b-953e-8c893bd79a9a"
      },
      "source": [
        "df.PrimeiraCompra.describe()"
      ],
      "execution_count": null,
      "outputs": [
        {
          "output_type": "execute_result",
          "data": {
            "text/plain": [
              "count    2840.000000\n",
              "mean       53.112063\n",
              "std        26.237098\n",
              "min         0.000000\n",
              "25%        32.900000\n",
              "50%        51.010000\n",
              "75%        71.360000\n",
              "max       137.780000\n",
              "Name: PrimeiraCompra, dtype: float64"
            ]
          },
          "metadata": {
            "tags": []
          },
          "execution_count": 697
        }
      ]
    },
    {
      "cell_type": "code",
      "metadata": {
        "id": "XwcKD2IwGtyw"
      },
      "source": [
        "df.loc[df.PrimeiraCompra < 42, \"PrimeiraCompra\"] = 0\n",
        "df.loc[(df.PrimeiraCompra >= 42) & (df.PrimeiraCompra < 66), \"PrimeiraCompra\"] = 1\n",
        "df.loc[(df.PrimeiraCompra >= 66), \"PrimeiraCompra\"] = 2"
      ],
      "execution_count": null,
      "outputs": []
    },
    {
      "cell_type": "code",
      "metadata": {
        "colab": {
          "base_uri": "https://localhost:8080/"
        },
        "id": "efo2q908Hrf6",
        "outputId": "f344ed65-78fc-44b1-aa92-8a44288dacfa"
      },
      "source": [
        "df.PrimeiraCompra.value_counts()"
      ],
      "execution_count": null,
      "outputs": [
        {
          "output_type": "execute_result",
          "data": {
            "text/plain": [
              "0.0    1064\n",
              "1.0     899\n",
              "2.0     877\n",
              "Name: PrimeiraCompra, dtype: int64"
            ]
          },
          "metadata": {
            "tags": []
          },
          "execution_count": 699
        }
      ]
    },
    {
      "cell_type": "code",
      "metadata": {
        "id": "Fc9Jkcj-I6nf"
      },
      "source": [
        "df_caso2 = df[df['PrimeiraCompra'] == 2]\n",
        "df_caso1 = df[df['PrimeiraCompra'] == 1]\n",
        "df_caso0 = df[df['PrimeiraCompra'] == 0]"
      ],
      "execution_count": null,
      "outputs": []
    },
    {
      "cell_type": "markdown",
      "metadata": {
        "id": "ra5HmiH3GZj9"
      },
      "source": [
        "Separar treino balanceadamente (819 casos \"1\" e 819 casos \"0\"). Teste fica com o resto (998 casos \"1\" e 204 casos \"0\")"
      ]
    },
    {
      "cell_type": "code",
      "metadata": {
        "id": "oBvQKWLsitpt"
      },
      "source": [
        "df2_train = df_caso2.head(701)\n",
        "df1_train = df_caso1.head(701)\n",
        "df0_train = df_caso0.head(701)\n",
        "df2_test  = df_caso2.tail(176)\n",
        "df1_test  = df_caso1.tail(198)\n",
        "df0_test  = df_caso0.tail(363)\n",
        "df_train = pd.concat([df2_train,df1_train,df0_train]).sample(frac = 1).reset_index(drop = True)\n",
        "df_test = pd.concat([df2_test,df1_test,df0_test]).sample(frac = 1).reset_index(drop = True)\n",
        "x_train = df_train.drop(columns = 'PrimeiraCompra')\n",
        "y_train = df_train.PrimeiraCompra\n",
        "x_test = df_test.drop(columns = 'PrimeiraCompra')\n",
        "y_test = df_test.PrimeiraCompra"
      ],
      "execution_count": null,
      "outputs": []
    },
    {
      "cell_type": "code",
      "metadata": {
        "colab": {
          "base_uri": "https://localhost:8080/",
          "height": 215
        },
        "id": "WzF1A3MilNK6",
        "outputId": "f57e2903-ad9a-4038-db02-21efa70eba9c"
      },
      "source": [
        "x_train.head(5)"
      ],
      "execution_count": null,
      "outputs": [
        {
          "output_type": "execute_result",
          "data": {
            "text/html": [
              "<div>\n",
              "<style scoped>\n",
              "    .dataframe tbody tr th:only-of-type {\n",
              "        vertical-align: middle;\n",
              "    }\n",
              "\n",
              "    .dataframe tbody tr th {\n",
              "        vertical-align: top;\n",
              "    }\n",
              "\n",
              "    .dataframe thead th {\n",
              "        text-align: right;\n",
              "    }\n",
              "</style>\n",
              "<table border=\"1\" class=\"dataframe\">\n",
              "  <thead>\n",
              "    <tr style=\"text-align: right;\">\n",
              "      <th></th>\n",
              "      <th>Cidade</th>\n",
              "      <th>Idade</th>\n",
              "      <th>Sexo</th>\n",
              "      <th>EstadoCivil</th>\n",
              "      <th>NumeroFilhos</th>\n",
              "      <th>Escolaridade</th>\n",
              "      <th>Ocupacao</th>\n",
              "      <th>AreaAtuacao</th>\n",
              "      <th>NivelGerencial</th>\n",
              "      <th>TipoResidencia</th>\n",
              "      <th>CondicaoResidencia</th>\n",
              "      <th>ValorImovel</th>\n",
              "      <th>NoAutomoveis</th>\n",
              "      <th>Computador</th>\n",
              "    </tr>\n",
              "  </thead>\n",
              "  <tbody>\n",
              "    <tr>\n",
              "      <th>0</th>\n",
              "      <td>4</td>\n",
              "      <td>34.96104</td>\n",
              "      <td>1</td>\n",
              "      <td>1</td>\n",
              "      <td>4</td>\n",
              "      <td>3</td>\n",
              "      <td>4</td>\n",
              "      <td>7</td>\n",
              "      <td>3</td>\n",
              "      <td>2</td>\n",
              "      <td>2</td>\n",
              "      <td>2</td>\n",
              "      <td>0</td>\n",
              "      <td>2</td>\n",
              "    </tr>\n",
              "    <tr>\n",
              "      <th>1</th>\n",
              "      <td>9</td>\n",
              "      <td>37.31681</td>\n",
              "      <td>2</td>\n",
              "      <td>3</td>\n",
              "      <td>0</td>\n",
              "      <td>3</td>\n",
              "      <td>3</td>\n",
              "      <td>6</td>\n",
              "      <td>3</td>\n",
              "      <td>2</td>\n",
              "      <td>2</td>\n",
              "      <td>2</td>\n",
              "      <td>1</td>\n",
              "      <td>2</td>\n",
              "    </tr>\n",
              "    <tr>\n",
              "      <th>2</th>\n",
              "      <td>5</td>\n",
              "      <td>34.32360</td>\n",
              "      <td>1</td>\n",
              "      <td>3</td>\n",
              "      <td>3</td>\n",
              "      <td>2</td>\n",
              "      <td>6</td>\n",
              "      <td>6</td>\n",
              "      <td>3</td>\n",
              "      <td>3</td>\n",
              "      <td>2</td>\n",
              "      <td>2</td>\n",
              "      <td>1</td>\n",
              "      <td>2</td>\n",
              "    </tr>\n",
              "    <tr>\n",
              "      <th>3</th>\n",
              "      <td>9</td>\n",
              "      <td>34.63310</td>\n",
              "      <td>2</td>\n",
              "      <td>3</td>\n",
              "      <td>0</td>\n",
              "      <td>3</td>\n",
              "      <td>3</td>\n",
              "      <td>4</td>\n",
              "      <td>3</td>\n",
              "      <td>2</td>\n",
              "      <td>2</td>\n",
              "      <td>3</td>\n",
              "      <td>1</td>\n",
              "      <td>2</td>\n",
              "    </tr>\n",
              "    <tr>\n",
              "      <th>4</th>\n",
              "      <td>4</td>\n",
              "      <td>30.45416</td>\n",
              "      <td>2</td>\n",
              "      <td>1</td>\n",
              "      <td>0</td>\n",
              "      <td>1</td>\n",
              "      <td>7</td>\n",
              "      <td>0</td>\n",
              "      <td>2</td>\n",
              "      <td>1</td>\n",
              "      <td>2</td>\n",
              "      <td>1</td>\n",
              "      <td>0</td>\n",
              "      <td>2</td>\n",
              "    </tr>\n",
              "  </tbody>\n",
              "</table>\n",
              "</div>"
            ],
            "text/plain": [
              "   Cidade     Idade  Sexo  ...  ValorImovel  NoAutomoveis  Computador\n",
              "0       4  34.96104     1  ...            2             0           2\n",
              "1       9  37.31681     2  ...            2             1           2\n",
              "2       5  34.32360     1  ...            2             1           2\n",
              "3       9  34.63310     2  ...            3             1           2\n",
              "4       4  30.45416     2  ...            1             0           2\n",
              "\n",
              "[5 rows x 14 columns]"
            ]
          },
          "metadata": {
            "tags": []
          },
          "execution_count": 702
        }
      ]
    },
    {
      "cell_type": "code",
      "metadata": {
        "id": "9TJLlnPAmBZb"
      },
      "source": [
        "featNum = ['Idade','NumeroFilhos','Escolaridade','NivelGerencial','TipoResidencia','CondicaoResidencia','ValorImovel','NoAutomoveis','Computador']\n",
        "featCat = ['Cidade','EstadoCivil','Sexo','Ocupacao','AreaAtuacao']"
      ],
      "execution_count": null,
      "outputs": []
    },
    {
      "cell_type": "code",
      "metadata": {
        "id": "NeDqyhRgmzL-"
      },
      "source": [
        "x_num = x_train[featNum].reset_index(drop = True)\n",
        "x_cat = x_train[featCat].reset_index(drop = True)"
      ],
      "execution_count": null,
      "outputs": []
    },
    {
      "cell_type": "markdown",
      "metadata": {
        "id": "-y9MgXgjoC_j"
      },
      "source": [
        "Features Numéricas"
      ]
    },
    {
      "cell_type": "code",
      "metadata": {
        "id": "V8NzSRYQm_TC"
      },
      "source": [
        "x_num = x_num.drop(columns = ['NumeroFilhos','Computador'])\n",
        "#x_num.NivelGerencial = x_num.NivelGerencial - 1\n",
        "#x_cat = x_cat.drop(columns = ['EstadoCivil'])"
      ],
      "execution_count": null,
      "outputs": []
    },
    {
      "cell_type": "code",
      "metadata": {
        "colab": {
          "base_uri": "https://localhost:8080/",
          "height": 195
        },
        "id": "zDQiFja3niQw",
        "outputId": "d08758e5-2677-41ff-a1ed-b2c156f0c68f"
      },
      "source": [
        "x_num.head(5)"
      ],
      "execution_count": null,
      "outputs": [
        {
          "output_type": "execute_result",
          "data": {
            "text/html": [
              "<div>\n",
              "<style scoped>\n",
              "    .dataframe tbody tr th:only-of-type {\n",
              "        vertical-align: middle;\n",
              "    }\n",
              "\n",
              "    .dataframe tbody tr th {\n",
              "        vertical-align: top;\n",
              "    }\n",
              "\n",
              "    .dataframe thead th {\n",
              "        text-align: right;\n",
              "    }\n",
              "</style>\n",
              "<table border=\"1\" class=\"dataframe\">\n",
              "  <thead>\n",
              "    <tr style=\"text-align: right;\">\n",
              "      <th></th>\n",
              "      <th>Idade</th>\n",
              "      <th>Escolaridade</th>\n",
              "      <th>NivelGerencial</th>\n",
              "      <th>TipoResidencia</th>\n",
              "      <th>CondicaoResidencia</th>\n",
              "      <th>ValorImovel</th>\n",
              "      <th>NoAutomoveis</th>\n",
              "    </tr>\n",
              "  </thead>\n",
              "  <tbody>\n",
              "    <tr>\n",
              "      <th>0</th>\n",
              "      <td>34.96104</td>\n",
              "      <td>3</td>\n",
              "      <td>3</td>\n",
              "      <td>2</td>\n",
              "      <td>2</td>\n",
              "      <td>2</td>\n",
              "      <td>0</td>\n",
              "    </tr>\n",
              "    <tr>\n",
              "      <th>1</th>\n",
              "      <td>37.31681</td>\n",
              "      <td>3</td>\n",
              "      <td>3</td>\n",
              "      <td>2</td>\n",
              "      <td>2</td>\n",
              "      <td>2</td>\n",
              "      <td>1</td>\n",
              "    </tr>\n",
              "    <tr>\n",
              "      <th>2</th>\n",
              "      <td>34.32360</td>\n",
              "      <td>2</td>\n",
              "      <td>3</td>\n",
              "      <td>3</td>\n",
              "      <td>2</td>\n",
              "      <td>2</td>\n",
              "      <td>1</td>\n",
              "    </tr>\n",
              "    <tr>\n",
              "      <th>3</th>\n",
              "      <td>34.63310</td>\n",
              "      <td>3</td>\n",
              "      <td>3</td>\n",
              "      <td>2</td>\n",
              "      <td>2</td>\n",
              "      <td>3</td>\n",
              "      <td>1</td>\n",
              "    </tr>\n",
              "    <tr>\n",
              "      <th>4</th>\n",
              "      <td>30.45416</td>\n",
              "      <td>1</td>\n",
              "      <td>2</td>\n",
              "      <td>1</td>\n",
              "      <td>2</td>\n",
              "      <td>1</td>\n",
              "      <td>0</td>\n",
              "    </tr>\n",
              "  </tbody>\n",
              "</table>\n",
              "</div>"
            ],
            "text/plain": [
              "      Idade  Escolaridade  ...  ValorImovel  NoAutomoveis\n",
              "0  34.96104             3  ...            2             0\n",
              "1  37.31681             3  ...            2             1\n",
              "2  34.32360             2  ...            2             1\n",
              "3  34.63310             3  ...            3             1\n",
              "4  30.45416             1  ...            1             0\n",
              "\n",
              "[5 rows x 7 columns]"
            ]
          },
          "metadata": {
            "tags": []
          },
          "execution_count": 706
        }
      ]
    },
    {
      "cell_type": "markdown",
      "metadata": {
        "id": "w7nrOtozrwCS"
      },
      "source": [
        "Normalização"
      ]
    },
    {
      "cell_type": "code",
      "metadata": {
        "id": "h-BJ85K5ryIQ"
      },
      "source": [
        "x_num_mean = x_num.mean()\n",
        "x_num_std = x_num.std()"
      ],
      "execution_count": null,
      "outputs": []
    },
    {
      "cell_type": "code",
      "metadata": {
        "id": "UfMVG07tsEGo"
      },
      "source": [
        "x_num_norm = (x_num-x_num_mean)/x_num_std"
      ],
      "execution_count": null,
      "outputs": []
    },
    {
      "cell_type": "markdown",
      "metadata": {
        "id": "e1L0gOu3G2ks"
      },
      "source": [
        "PCA"
      ]
    },
    {
      "cell_type": "code",
      "metadata": {
        "id": "gKN0emKvn14w"
      },
      "source": [
        "correlation = np.corrcoef(x_num,rowvar = False)"
      ],
      "execution_count": null,
      "outputs": []
    },
    {
      "cell_type": "code",
      "metadata": {
        "colab": {
          "base_uri": "https://localhost:8080/"
        },
        "id": "drp9lkaioPxc",
        "outputId": "3217a14e-555c-4b09-fc97-d2a548caf525"
      },
      "source": [
        "correlation"
      ],
      "execution_count": null,
      "outputs": [
        {
          "output_type": "execute_result",
          "data": {
            "text/plain": [
              "array([[1.     , 0.74384, 0.85049, 0.70861, 0.72452, 0.75209, 0.71321],\n",
              "       [0.74384, 1.     , 0.72983, 0.67721, 0.65923, 0.6869 , 0.64701],\n",
              "       [0.85049, 0.72983, 1.     , 0.72713, 0.77874, 0.82388, 0.79677],\n",
              "       [0.70861, 0.67721, 0.72713, 1.     , 0.63575, 0.65642, 0.61319],\n",
              "       [0.72452, 0.65923, 0.77874, 0.63575, 1.     , 0.70196, 0.66164],\n",
              "       [0.75209, 0.6869 , 0.82388, 0.65642, 0.70196, 1.     , 0.69501],\n",
              "       [0.71321, 0.64701, 0.79677, 0.61319, 0.66164, 0.69501, 1.     ]])"
            ]
          },
          "metadata": {
            "tags": []
          },
          "execution_count": 710
        }
      ]
    },
    {
      "cell_type": "code",
      "metadata": {
        "id": "rRsMqinCol8I"
      },
      "source": [
        "eigvals,eigvect = np.linalg.eig(correlation)"
      ],
      "execution_count": null,
      "outputs": []
    },
    {
      "cell_type": "code",
      "metadata": {
        "colab": {
          "base_uri": "https://localhost:8080/"
        },
        "id": "JAX04kQ3o7aM",
        "outputId": "782100e8-852f-4699-8105-74ed9f4d5abf"
      },
      "source": [
        "eigvals"
      ],
      "execution_count": null,
      "outputs": [
        {
          "output_type": "execute_result",
          "data": {
            "text/plain": [
              "array([5.29097, 0.11403, 0.22979, 0.41905, 0.28875, 0.32128, 0.33612])"
            ]
          },
          "metadata": {
            "tags": []
          },
          "execution_count": 712
        }
      ]
    },
    {
      "cell_type": "code",
      "metadata": {
        "colab": {
          "base_uri": "https://localhost:8080/"
        },
        "id": "YyZDwlsfo9Dp",
        "outputId": "5bcfa297-a739-468a-b447-7911b7460596"
      },
      "source": [
        "eigvect"
      ],
      "execution_count": null,
      "outputs": [
        {
          "output_type": "execute_result",
          "data": {
            "text/plain": [
              "array([[ 0.39364, -0.37253, -0.82525, -0.03806, -0.11239,  0.10557,  0.00173],\n",
              "       [ 0.36708,  0.07908,  0.23083, -0.40707,  0.18967,  0.76794,  0.11961],\n",
              "       [ 0.40909,  0.85717, -0.19649,  0.18436, -0.12183, -0.10018,  0.02084],\n",
              "       [ 0.35749, -0.05565,  0.14311, -0.6861 ,  0.05397, -0.60236,  0.11022],\n",
              "       [ 0.36883, -0.11803,  0.1508 ,  0.21135,  0.41743, -0.07968, -0.77591],\n",
              "       [ 0.38066, -0.23924,  0.39003,  0.1975 , -0.77478,  0.0329 , -0.07325],\n",
              "       [ 0.36635, -0.21439,  0.17811,  0.49442,  0.39889, -0.1372 ,  0.60474]])"
            ]
          },
          "metadata": {
            "tags": []
          },
          "execution_count": 713
        }
      ]
    },
    {
      "cell_type": "code",
      "metadata": {
        "colab": {
          "base_uri": "https://localhost:8080/"
        },
        "id": "i1PFqyptpAak",
        "outputId": "766d07b5-668d-4d5f-aa98-5264e594b8e4"
      },
      "source": [
        "eigvals/sum(eigvals)"
      ],
      "execution_count": null,
      "outputs": [
        {
          "output_type": "execute_result",
          "data": {
            "text/plain": [
              "array([0.75585, 0.01629, 0.03283, 0.05986, 0.04125, 0.0459 , 0.04802])"
            ]
          },
          "metadata": {
            "tags": []
          },
          "execution_count": 714
        }
      ]
    },
    {
      "cell_type": "code",
      "metadata": {
        "colab": {
          "base_uri": "https://localhost:8080/"
        },
        "id": "vQOImgbbssH5",
        "outputId": "a201f546-eabe-4e16-dbde-ec76068bfa51"
      },
      "source": [
        "x_avet = eigvect[:,[0,2,5,6]]\n",
        "x_avet"
      ],
      "execution_count": null,
      "outputs": [
        {
          "output_type": "execute_result",
          "data": {
            "text/plain": [
              "array([[ 0.39364, -0.82525,  0.10557,  0.00173],\n",
              "       [ 0.36708,  0.23083,  0.76794,  0.11961],\n",
              "       [ 0.40909, -0.19649, -0.10018,  0.02084],\n",
              "       [ 0.35749,  0.14311, -0.60236,  0.11022],\n",
              "       [ 0.36883,  0.1508 , -0.07968, -0.77591],\n",
              "       [ 0.38066,  0.39003,  0.0329 , -0.07325],\n",
              "       [ 0.36635,  0.17811, -0.1372 ,  0.60474]])"
            ]
          },
          "metadata": {
            "tags": []
          },
          "execution_count": 715
        }
      ]
    },
    {
      "cell_type": "code",
      "metadata": {
        "colab": {
          "base_uri": "https://localhost:8080/"
        },
        "id": "z8ZUR6cVtIg3",
        "outputId": "9338ca35-f9e8-45ce-fb12-5e645b7af014"
      },
      "source": [
        "x_num_dec = np.dot(x_num_norm,x_avet)\n",
        "x_num_dec"
      ],
      "execution_count": null,
      "outputs": [
        {
          "output_type": "execute_result",
          "data": {
            "text/plain": [
              "array([[-0.90266,  0.07625,  0.78319, -0.35225],\n",
              "       [-0.34697,  0.09625,  0.63733,  0.40556],\n",
              "       [-0.32418,  0.32271, -1.12833,  0.44309],\n",
              "       [-0.06206,  0.73257,  0.6419 ,  0.32901],\n",
              "       [-3.09955, -0.51228,  0.03217, -0.71465],\n",
              "       [-2.27144,  0.17157, -0.08154, -0.42048],\n",
              "       [ 0.75736, -0.35539, -0.04576, -0.2453 ],\n",
              "       [-1.41335,  0.79122, -0.21813,  0.26086],\n",
              "       [-1.62115,  0.50969, -0.12749, -0.48195],\n",
              "       [ 2.0055 , -0.04624, -0.40048, -0.54218],\n",
              "       [-0.2115 , -0.18777,  0.67366,  0.40615],\n",
              "       ...,\n",
              "       [ 1.70172, -0.64299, -0.41011, -0.46572],\n",
              "       [-0.57606, -0.60846,  0.87078, -0.35081],\n",
              "       [ 3.54757,  0.68013,  0.21584,  0.28218],\n",
              "       [-4.45186, -0.02313, -0.80244,  0.22407],\n",
              "       [ 1.29513,  0.97522, -0.44247, -0.55877],\n",
              "       [-0.24223, -0.12334,  0.66542,  0.40602],\n",
              "       [ 0.68404, -0.25032, -0.28847,  0.58754],\n",
              "       [-1.60287,  0.47136, -0.12259, -0.48187],\n",
              "       [-2.12495, -0.24901,  0.9397 , -0.66162],\n",
              "       [-0.36262,  0.4033 , -1.13864,  0.44293],\n",
              "       [-1.32114,  0.5979 , -0.1934 ,  0.26126]])"
            ]
          },
          "metadata": {
            "tags": []
          },
          "execution_count": 716
        }
      ]
    },
    {
      "cell_type": "code",
      "metadata": {
        "id": "Epdjh1xxtWNC"
      },
      "source": [
        "x_num_dec = pd.DataFrame(x_num_dec,columns = ['PC0','PC1','PC2','PC3'])"
      ],
      "execution_count": null,
      "outputs": []
    },
    {
      "cell_type": "code",
      "metadata": {
        "colab": {
          "base_uri": "https://localhost:8080/",
          "height": 402
        },
        "id": "8nTScz8It3vH",
        "outputId": "fa99d18b-4bad-4807-cd68-8f2ad82a44b6"
      },
      "source": [
        "x_num_dec"
      ],
      "execution_count": null,
      "outputs": [
        {
          "output_type": "execute_result",
          "data": {
            "text/html": [
              "<div>\n",
              "<style scoped>\n",
              "    .dataframe tbody tr th:only-of-type {\n",
              "        vertical-align: middle;\n",
              "    }\n",
              "\n",
              "    .dataframe tbody tr th {\n",
              "        vertical-align: top;\n",
              "    }\n",
              "\n",
              "    .dataframe thead th {\n",
              "        text-align: right;\n",
              "    }\n",
              "</style>\n",
              "<table border=\"1\" class=\"dataframe\">\n",
              "  <thead>\n",
              "    <tr style=\"text-align: right;\">\n",
              "      <th></th>\n",
              "      <th>PC0</th>\n",
              "      <th>PC1</th>\n",
              "      <th>PC2</th>\n",
              "      <th>PC3</th>\n",
              "    </tr>\n",
              "  </thead>\n",
              "  <tbody>\n",
              "    <tr>\n",
              "      <th>0</th>\n",
              "      <td>-0.902655</td>\n",
              "      <td>0.076250</td>\n",
              "      <td>0.783189</td>\n",
              "      <td>-0.352247</td>\n",
              "    </tr>\n",
              "    <tr>\n",
              "      <th>1</th>\n",
              "      <td>-0.346973</td>\n",
              "      <td>0.096254</td>\n",
              "      <td>0.637332</td>\n",
              "      <td>0.405561</td>\n",
              "    </tr>\n",
              "    <tr>\n",
              "      <th>2</th>\n",
              "      <td>-0.324178</td>\n",
              "      <td>0.322708</td>\n",
              "      <td>-1.128334</td>\n",
              "      <td>0.443094</td>\n",
              "    </tr>\n",
              "    <tr>\n",
              "      <th>3</th>\n",
              "      <td>-0.062063</td>\n",
              "      <td>0.732570</td>\n",
              "      <td>0.641902</td>\n",
              "      <td>0.329014</td>\n",
              "    </tr>\n",
              "    <tr>\n",
              "      <th>4</th>\n",
              "      <td>-3.099551</td>\n",
              "      <td>-0.512281</td>\n",
              "      <td>0.032169</td>\n",
              "      <td>-0.714650</td>\n",
              "    </tr>\n",
              "    <tr>\n",
              "      <th>...</th>\n",
              "      <td>...</td>\n",
              "      <td>...</td>\n",
              "      <td>...</td>\n",
              "      <td>...</td>\n",
              "    </tr>\n",
              "    <tr>\n",
              "      <th>2098</th>\n",
              "      <td>0.684040</td>\n",
              "      <td>-0.250323</td>\n",
              "      <td>-0.288468</td>\n",
              "      <td>0.587542</td>\n",
              "    </tr>\n",
              "    <tr>\n",
              "      <th>2099</th>\n",
              "      <td>-1.602867</td>\n",
              "      <td>0.471362</td>\n",
              "      <td>-0.122591</td>\n",
              "      <td>-0.481870</td>\n",
              "    </tr>\n",
              "    <tr>\n",
              "      <th>2100</th>\n",
              "      <td>-2.124953</td>\n",
              "      <td>-0.249014</td>\n",
              "      <td>0.939697</td>\n",
              "      <td>-0.661620</td>\n",
              "    </tr>\n",
              "    <tr>\n",
              "      <th>2101</th>\n",
              "      <td>-0.362618</td>\n",
              "      <td>0.403297</td>\n",
              "      <td>-1.138644</td>\n",
              "      <td>0.442926</td>\n",
              "    </tr>\n",
              "    <tr>\n",
              "      <th>2102</th>\n",
              "      <td>-1.321141</td>\n",
              "      <td>0.597901</td>\n",
              "      <td>-0.193404</td>\n",
              "      <td>0.261262</td>\n",
              "    </tr>\n",
              "  </tbody>\n",
              "</table>\n",
              "<p>2103 rows × 4 columns</p>\n",
              "</div>"
            ],
            "text/plain": [
              "           PC0       PC1       PC2       PC3\n",
              "0    -0.902655  0.076250  0.783189 -0.352247\n",
              "1    -0.346973  0.096254  0.637332  0.405561\n",
              "2    -0.324178  0.322708 -1.128334  0.443094\n",
              "3    -0.062063  0.732570  0.641902  0.329014\n",
              "4    -3.099551 -0.512281  0.032169 -0.714650\n",
              "...        ...       ...       ...       ...\n",
              "2098  0.684040 -0.250323 -0.288468  0.587542\n",
              "2099 -1.602867  0.471362 -0.122591 -0.481870\n",
              "2100 -2.124953 -0.249014  0.939697 -0.661620\n",
              "2101 -0.362618  0.403297 -1.138644  0.442926\n",
              "2102 -1.321141  0.597901 -0.193404  0.261262\n",
              "\n",
              "[2103 rows x 4 columns]"
            ]
          },
          "metadata": {
            "tags": []
          },
          "execution_count": 718
        }
      ]
    },
    {
      "cell_type": "markdown",
      "metadata": {
        "id": "Rs0MS0qBugqc"
      },
      "source": [
        "## Features Categoricas"
      ]
    },
    {
      "cell_type": "code",
      "metadata": {
        "colab": {
          "base_uri": "https://localhost:8080/"
        },
        "id": "CpmyUzJbukq7",
        "outputId": "c94b21ef-685e-4d19-e002-84f91e2b9ade"
      },
      "source": [
        "x_cat"
      ],
      "execution_count": null,
      "outputs": [
        {
          "output_type": "execute_result",
          "data": {
            "text/html": [
              "<div>\n",
              "<style scoped>\n",
              "    .dataframe tbody tr th:only-of-type {\n",
              "        vertical-align: middle;\n",
              "    }\n",
              "\n",
              "    .dataframe tbody tr th {\n",
              "        vertical-align: top;\n",
              "    }\n",
              "\n",
              "    .dataframe thead th {\n",
              "        text-align: right;\n",
              "    }\n",
              "</style>\n",
              "<table border=\"1\" class=\"dataframe\">\n",
              "  <thead>\n",
              "    <tr style=\"text-align: right;\">\n",
              "      <th></th>\n",
              "      <th>Cidade</th>\n",
              "      <th>EstadoCivil</th>\n",
              "      <th>Sexo</th>\n",
              "      <th>Ocupacao</th>\n",
              "      <th>AreaAtuacao</th>\n",
              "    </tr>\n",
              "  </thead>\n",
              "  <tbody>\n",
              "    <tr>\n",
              "      <th>0</th>\n",
              "      <td>4</td>\n",
              "      <td>1</td>\n",
              "      <td>1</td>\n",
              "      <td>4</td>\n",
              "      <td>7</td>\n",
              "    </tr>\n",
              "    <tr>\n",
              "      <th>1</th>\n",
              "      <td>9</td>\n",
              "      <td>3</td>\n",
              "      <td>2</td>\n",
              "      <td>3</td>\n",
              "      <td>6</td>\n",
              "    </tr>\n",
              "    <tr>\n",
              "      <th>2</th>\n",
              "      <td>5</td>\n",
              "      <td>3</td>\n",
              "      <td>1</td>\n",
              "      <td>6</td>\n",
              "      <td>6</td>\n",
              "    </tr>\n",
              "    <tr>\n",
              "      <th>3</th>\n",
              "      <td>9</td>\n",
              "      <td>3</td>\n",
              "      <td>2</td>\n",
              "      <td>3</td>\n",
              "      <td>4</td>\n",
              "    </tr>\n",
              "    <tr>\n",
              "      <th>4</th>\n",
              "      <td>4</td>\n",
              "      <td>1</td>\n",
              "      <td>2</td>\n",
              "      <td>7</td>\n",
              "      <td>0</td>\n",
              "    </tr>\n",
              "    <tr>\n",
              "      <th>...</th>\n",
              "      <td>...</td>\n",
              "      <td>...</td>\n",
              "      <td>...</td>\n",
              "      <td>...</td>\n",
              "      <td>...</td>\n",
              "    </tr>\n",
              "    <tr>\n",
              "      <th>2098</th>\n",
              "      <td>4</td>\n",
              "      <td>1</td>\n",
              "      <td>1</td>\n",
              "      <td>4</td>\n",
              "      <td>0</td>\n",
              "    </tr>\n",
              "    <tr>\n",
              "      <th>2099</th>\n",
              "      <td>2</td>\n",
              "      <td>1</td>\n",
              "      <td>1</td>\n",
              "      <td>2</td>\n",
              "      <td>6</td>\n",
              "    </tr>\n",
              "    <tr>\n",
              "      <th>2100</th>\n",
              "      <td>10</td>\n",
              "      <td>1</td>\n",
              "      <td>2</td>\n",
              "      <td>6</td>\n",
              "      <td>8</td>\n",
              "    </tr>\n",
              "    <tr>\n",
              "      <th>2101</th>\n",
              "      <td>8</td>\n",
              "      <td>1</td>\n",
              "      <td>2</td>\n",
              "      <td>3</td>\n",
              "      <td>8</td>\n",
              "    </tr>\n",
              "    <tr>\n",
              "      <th>2102</th>\n",
              "      <td>10</td>\n",
              "      <td>1</td>\n",
              "      <td>1</td>\n",
              "      <td>3</td>\n",
              "      <td>3</td>\n",
              "    </tr>\n",
              "  </tbody>\n",
              "</table>\n",
              "<p>2103 rows × 5 columns</p>\n",
              "</div>"
            ],
            "text/plain": [
              "      Cidade  EstadoCivil  Sexo  Ocupacao  AreaAtuacao\n",
              "0          4            1     1         4            7\n",
              "1          9            3     2         3            6\n",
              "2          5            3     1         6            6\n",
              "3          9            3     2         3            4\n",
              "4          4            1     2         7            0\n",
              "...      ...          ...   ...       ...          ...\n",
              "2098       4            1     1         4            0\n",
              "2099       2            1     1         2            6\n",
              "2100      10            1     2         6            8\n",
              "2101       8            1     2         3            8\n",
              "2102      10            1     1         3            3\n",
              "\n",
              "[2103 rows x 5 columns]"
            ]
          },
          "metadata": {
            "tags": []
          },
          "execution_count": 719
        }
      ]
    },
    {
      "cell_type": "markdown",
      "metadata": {
        "id": "NkPhZghvG8Dn"
      },
      "source": [
        "## One Hot Encode pra esses dois"
      ]
    },
    {
      "cell_type": "code",
      "metadata": {
        "id": "kpi-R94GvejY"
      },
      "source": [
        "sexo = pd.get_dummies(x_cat['Sexo'], drop_first=False)\n",
        "sexo.columns = ['Sexo_masculino', 'Sexo_feminino']\n",
        "\n",
        "x_cat = pd.concat([x_cat,sexo], axis=1)\n",
        "del x_cat['Sexo']"
      ],
      "execution_count": null,
      "outputs": []
    },
    {
      "cell_type": "code",
      "metadata": {
        "id": "VVussy0pyLVo"
      },
      "source": [
        "estado_civil = pd.get_dummies(x_cat['EstadoCivil'], drop_first=False)\n",
        "estado_civil.columns = ['EstadoCivil_solteiro', 'EstadoCivil_junto', 'EstadoCivil_casado', 'EstadoCivil_viuvo']\n",
        "estado_civil\n",
        "\n",
        "x_cat = pd.concat([x_cat,estado_civil], axis=1)\n",
        "del x_cat['EstadoCivil']"
      ],
      "execution_count": null,
      "outputs": []
    },
    {
      "cell_type": "code",
      "metadata": {
        "colab": {
          "base_uri": "https://localhost:8080/"
        },
        "id": "CIAgGXEs2c9e",
        "outputId": "8e664241-2b8b-4c20-db4f-ec1125d179e3"
      },
      "source": [
        "x_cat"
      ],
      "execution_count": null,
      "outputs": [
        {
          "output_type": "execute_result",
          "data": {
            "text/html": [
              "<div>\n",
              "<style scoped>\n",
              "    .dataframe tbody tr th:only-of-type {\n",
              "        vertical-align: middle;\n",
              "    }\n",
              "\n",
              "    .dataframe tbody tr th {\n",
              "        vertical-align: top;\n",
              "    }\n",
              "\n",
              "    .dataframe thead th {\n",
              "        text-align: right;\n",
              "    }\n",
              "</style>\n",
              "<table border=\"1\" class=\"dataframe\">\n",
              "  <thead>\n",
              "    <tr style=\"text-align: right;\">\n",
              "      <th></th>\n",
              "      <th>Cidade</th>\n",
              "      <th>Ocupacao</th>\n",
              "      <th>AreaAtuacao</th>\n",
              "      <th>Sexo_masculino</th>\n",
              "      <th>Sexo_feminino</th>\n",
              "      <th>EstadoCivil_solteiro</th>\n",
              "      <th>EstadoCivil_junto</th>\n",
              "      <th>EstadoCivil_casado</th>\n",
              "      <th>EstadoCivil_viuvo</th>\n",
              "    </tr>\n",
              "  </thead>\n",
              "  <tbody>\n",
              "    <tr>\n",
              "      <th>0</th>\n",
              "      <td>4</td>\n",
              "      <td>4</td>\n",
              "      <td>7</td>\n",
              "      <td>1</td>\n",
              "      <td>0</td>\n",
              "      <td>1</td>\n",
              "      <td>0</td>\n",
              "      <td>0</td>\n",
              "      <td>0</td>\n",
              "    </tr>\n",
              "    <tr>\n",
              "      <th>1</th>\n",
              "      <td>9</td>\n",
              "      <td>3</td>\n",
              "      <td>6</td>\n",
              "      <td>0</td>\n",
              "      <td>1</td>\n",
              "      <td>0</td>\n",
              "      <td>0</td>\n",
              "      <td>1</td>\n",
              "      <td>0</td>\n",
              "    </tr>\n",
              "    <tr>\n",
              "      <th>2</th>\n",
              "      <td>5</td>\n",
              "      <td>6</td>\n",
              "      <td>6</td>\n",
              "      <td>1</td>\n",
              "      <td>0</td>\n",
              "      <td>0</td>\n",
              "      <td>0</td>\n",
              "      <td>1</td>\n",
              "      <td>0</td>\n",
              "    </tr>\n",
              "    <tr>\n",
              "      <th>3</th>\n",
              "      <td>9</td>\n",
              "      <td>3</td>\n",
              "      <td>4</td>\n",
              "      <td>0</td>\n",
              "      <td>1</td>\n",
              "      <td>0</td>\n",
              "      <td>0</td>\n",
              "      <td>1</td>\n",
              "      <td>0</td>\n",
              "    </tr>\n",
              "    <tr>\n",
              "      <th>4</th>\n",
              "      <td>4</td>\n",
              "      <td>7</td>\n",
              "      <td>0</td>\n",
              "      <td>0</td>\n",
              "      <td>1</td>\n",
              "      <td>1</td>\n",
              "      <td>0</td>\n",
              "      <td>0</td>\n",
              "      <td>0</td>\n",
              "    </tr>\n",
              "    <tr>\n",
              "      <th>...</th>\n",
              "      <td>...</td>\n",
              "      <td>...</td>\n",
              "      <td>...</td>\n",
              "      <td>...</td>\n",
              "      <td>...</td>\n",
              "      <td>...</td>\n",
              "      <td>...</td>\n",
              "      <td>...</td>\n",
              "      <td>...</td>\n",
              "    </tr>\n",
              "    <tr>\n",
              "      <th>2098</th>\n",
              "      <td>4</td>\n",
              "      <td>4</td>\n",
              "      <td>0</td>\n",
              "      <td>1</td>\n",
              "      <td>0</td>\n",
              "      <td>1</td>\n",
              "      <td>0</td>\n",
              "      <td>0</td>\n",
              "      <td>0</td>\n",
              "    </tr>\n",
              "    <tr>\n",
              "      <th>2099</th>\n",
              "      <td>2</td>\n",
              "      <td>2</td>\n",
              "      <td>6</td>\n",
              "      <td>1</td>\n",
              "      <td>0</td>\n",
              "      <td>1</td>\n",
              "      <td>0</td>\n",
              "      <td>0</td>\n",
              "      <td>0</td>\n",
              "    </tr>\n",
              "    <tr>\n",
              "      <th>2100</th>\n",
              "      <td>10</td>\n",
              "      <td>6</td>\n",
              "      <td>8</td>\n",
              "      <td>0</td>\n",
              "      <td>1</td>\n",
              "      <td>1</td>\n",
              "      <td>0</td>\n",
              "      <td>0</td>\n",
              "      <td>0</td>\n",
              "    </tr>\n",
              "    <tr>\n",
              "      <th>2101</th>\n",
              "      <td>8</td>\n",
              "      <td>3</td>\n",
              "      <td>8</td>\n",
              "      <td>0</td>\n",
              "      <td>1</td>\n",
              "      <td>1</td>\n",
              "      <td>0</td>\n",
              "      <td>0</td>\n",
              "      <td>0</td>\n",
              "    </tr>\n",
              "    <tr>\n",
              "      <th>2102</th>\n",
              "      <td>10</td>\n",
              "      <td>3</td>\n",
              "      <td>3</td>\n",
              "      <td>1</td>\n",
              "      <td>0</td>\n",
              "      <td>1</td>\n",
              "      <td>0</td>\n",
              "      <td>0</td>\n",
              "      <td>0</td>\n",
              "    </tr>\n",
              "  </tbody>\n",
              "</table>\n",
              "<p>2103 rows × 9 columns</p>\n",
              "</div>"
            ],
            "text/plain": [
              "      Cidade  Ocupacao  ...  EstadoCivil_casado  EstadoCivil_viuvo\n",
              "0          4         4  ...                   0                  0\n",
              "1          9         3  ...                   1                  0\n",
              "2          5         6  ...                   1                  0\n",
              "3          9         3  ...                   1                  0\n",
              "4          4         7  ...                   0                  0\n",
              "...      ...       ...  ...                 ...                ...\n",
              "2098       4         4  ...                   0                  0\n",
              "2099       2         2  ...                   0                  0\n",
              "2100      10         6  ...                   0                  0\n",
              "2101       8         3  ...                   0                  0\n",
              "2102      10         3  ...                   0                  0\n",
              "\n",
              "[2103 rows x 9 columns]"
            ]
          },
          "metadata": {
            "tags": []
          },
          "execution_count": 722
        }
      ]
    },
    {
      "cell_type": "markdown",
      "metadata": {
        "id": "ZpyHx0CcHBKl"
      },
      "source": [
        "## Feature Hashig para esses três"
      ]
    },
    {
      "cell_type": "code",
      "metadata": {
        "id": "Ecb2IR9ZyWbs"
      },
      "source": [
        "from sklearn.feature_extraction import FeatureHasher"
      ],
      "execution_count": null,
      "outputs": []
    },
    {
      "cell_type": "code",
      "metadata": {
        "id": "6q0n76Lsz-ss"
      },
      "source": [
        "x_cat[['Cidade','Ocupacao','AreaAtuacao']] = x_cat[['Cidade','Ocupacao','AreaAtuacao']].astype('string')"
      ],
      "execution_count": null,
      "outputs": []
    },
    {
      "cell_type": "code",
      "metadata": {
        "colab": {
          "base_uri": "https://localhost:8080/"
        },
        "id": "GWTDRrtczxZS",
        "outputId": "2c8b4e14-5ea8-43e5-9671-ab8f8d0aa802"
      },
      "source": [
        "x_cat.info()"
      ],
      "execution_count": null,
      "outputs": [
        {
          "output_type": "stream",
          "text": [
            "<class 'pandas.core.frame.DataFrame'>\n",
            "RangeIndex: 2103 entries, 0 to 2102\n",
            "Data columns (total 9 columns):\n",
            " #   Column                Non-Null Count  Dtype \n",
            "---  ------                --------------  ----- \n",
            " 0   Cidade                2103 non-null   string\n",
            " 1   Ocupacao              2103 non-null   string\n",
            " 2   AreaAtuacao           2103 non-null   string\n",
            " 3   Sexo_masculino        2103 non-null   uint8 \n",
            " 4   Sexo_feminino         2103 non-null   uint8 \n",
            " 5   EstadoCivil_solteiro  2103 non-null   uint8 \n",
            " 6   EstadoCivil_junto     2103 non-null   uint8 \n",
            " 7   EstadoCivil_casado    2103 non-null   uint8 \n",
            " 8   EstadoCivil_viuvo     2103 non-null   uint8 \n",
            "dtypes: string(3), uint8(6)\n",
            "memory usage: 61.7 KB\n"
          ],
          "name": "stdout"
        }
      ]
    },
    {
      "cell_type": "code",
      "metadata": {
        "id": "SoGeebGbyvdj"
      },
      "source": [
        "fh1 = FeatureHasher(n_features=5, input_type='string')\n",
        "hashed_features = fh1.fit_transform(x_cat['Cidade'])\n",
        "hashed_features = hashed_features.toarray()\n",
        "hashCidade = pd.DataFrame(data = hashed_features,columns = ['Cidade0','Cidade1','Cidade2','Cidade3','Cidade4'])\n",
        "x_cat = pd.concat([x_cat,hashCidade],axis = 1).reset_index(drop = True)\n",
        "del x_cat['Cidade']"
      ],
      "execution_count": null,
      "outputs": []
    },
    {
      "cell_type": "code",
      "metadata": {
        "id": "A4CS2CnW2PiX"
      },
      "source": [
        "fh2 = FeatureHasher(n_features=4, input_type='string')\n",
        "hashed_features = fh2.fit_transform(x_cat['Ocupacao'])\n",
        "hashed_features = hashed_features.toarray()\n",
        "hashOcupacao = pd.DataFrame(data = hashed_features,columns = ['Ocupacao0','Ocupacao1','Ocupacao2','Ocupacao3'])\n",
        "x_cat = pd.concat([x_cat,hashOcupacao],axis = 1).reset_index(drop = True)\n",
        "del x_cat['Ocupacao']"
      ],
      "execution_count": null,
      "outputs": []
    },
    {
      "cell_type": "code",
      "metadata": {
        "id": "qYb37swf3qgB"
      },
      "source": [
        "fh3 = FeatureHasher(n_features=4, input_type='string')\n",
        "hashed_features = fh3.fit_transform(x_cat['AreaAtuacao'])\n",
        "hashed_features = hashed_features.toarray()\n",
        "hashAreaAtuacao = pd.DataFrame(data = hashed_features,columns = ['AreaAtuacao0','AreaAtuacao1','AreaAtuacao2','AreaAtuacao3'])\n",
        "x_cat = pd.concat([x_cat,hashAreaAtuacao],axis = 1).reset_index(drop = True)\n",
        "del x_cat['AreaAtuacao']"
      ],
      "execution_count": null,
      "outputs": []
    },
    {
      "cell_type": "code",
      "metadata": {
        "colab": {
          "base_uri": "https://localhost:8080/"
        },
        "id": "Z8KPGRn43y-l",
        "outputId": "5c492e07-9d40-4e22-a1a2-f2712b09ebb2"
      },
      "source": [
        "x_cat"
      ],
      "execution_count": null,
      "outputs": [
        {
          "output_type": "execute_result",
          "data": {
            "text/html": [
              "<div>\n",
              "<style scoped>\n",
              "    .dataframe tbody tr th:only-of-type {\n",
              "        vertical-align: middle;\n",
              "    }\n",
              "\n",
              "    .dataframe tbody tr th {\n",
              "        vertical-align: top;\n",
              "    }\n",
              "\n",
              "    .dataframe thead th {\n",
              "        text-align: right;\n",
              "    }\n",
              "</style>\n",
              "<table border=\"1\" class=\"dataframe\">\n",
              "  <thead>\n",
              "    <tr style=\"text-align: right;\">\n",
              "      <th></th>\n",
              "      <th>Sexo_masculino</th>\n",
              "      <th>Sexo_feminino</th>\n",
              "      <th>EstadoCivil_solteiro</th>\n",
              "      <th>EstadoCivil_junto</th>\n",
              "      <th>EstadoCivil_casado</th>\n",
              "      <th>EstadoCivil_viuvo</th>\n",
              "      <th>Cidade0</th>\n",
              "      <th>Cidade1</th>\n",
              "      <th>Cidade2</th>\n",
              "      <th>Cidade3</th>\n",
              "      <th>Cidade4</th>\n",
              "      <th>Ocupacao0</th>\n",
              "      <th>Ocupacao1</th>\n",
              "      <th>Ocupacao2</th>\n",
              "      <th>Ocupacao3</th>\n",
              "      <th>AreaAtuacao0</th>\n",
              "      <th>AreaAtuacao1</th>\n",
              "      <th>AreaAtuacao2</th>\n",
              "      <th>AreaAtuacao3</th>\n",
              "    </tr>\n",
              "  </thead>\n",
              "  <tbody>\n",
              "    <tr>\n",
              "      <th>0</th>\n",
              "      <td>1</td>\n",
              "      <td>0</td>\n",
              "      <td>1</td>\n",
              "      <td>0</td>\n",
              "      <td>0</td>\n",
              "      <td>0</td>\n",
              "      <td>0.0</td>\n",
              "      <td>0.0</td>\n",
              "      <td>-1.0</td>\n",
              "      <td>0.0</td>\n",
              "      <td>0.0</td>\n",
              "      <td>-1.0</td>\n",
              "      <td>0.0</td>\n",
              "      <td>0.0</td>\n",
              "      <td>0.0</td>\n",
              "      <td>1.0</td>\n",
              "      <td>0.0</td>\n",
              "      <td>0.0</td>\n",
              "      <td>0.0</td>\n",
              "    </tr>\n",
              "    <tr>\n",
              "      <th>1</th>\n",
              "      <td>0</td>\n",
              "      <td>1</td>\n",
              "      <td>0</td>\n",
              "      <td>0</td>\n",
              "      <td>1</td>\n",
              "      <td>0</td>\n",
              "      <td>0.0</td>\n",
              "      <td>1.0</td>\n",
              "      <td>0.0</td>\n",
              "      <td>0.0</td>\n",
              "      <td>0.0</td>\n",
              "      <td>1.0</td>\n",
              "      <td>0.0</td>\n",
              "      <td>0.0</td>\n",
              "      <td>0.0</td>\n",
              "      <td>1.0</td>\n",
              "      <td>0.0</td>\n",
              "      <td>0.0</td>\n",
              "      <td>0.0</td>\n",
              "    </tr>\n",
              "    <tr>\n",
              "      <th>2</th>\n",
              "      <td>1</td>\n",
              "      <td>0</td>\n",
              "      <td>0</td>\n",
              "      <td>0</td>\n",
              "      <td>1</td>\n",
              "      <td>0</td>\n",
              "      <td>1.0</td>\n",
              "      <td>0.0</td>\n",
              "      <td>0.0</td>\n",
              "      <td>0.0</td>\n",
              "      <td>0.0</td>\n",
              "      <td>1.0</td>\n",
              "      <td>0.0</td>\n",
              "      <td>0.0</td>\n",
              "      <td>0.0</td>\n",
              "      <td>1.0</td>\n",
              "      <td>0.0</td>\n",
              "      <td>0.0</td>\n",
              "      <td>0.0</td>\n",
              "    </tr>\n",
              "    <tr>\n",
              "      <th>3</th>\n",
              "      <td>0</td>\n",
              "      <td>1</td>\n",
              "      <td>0</td>\n",
              "      <td>0</td>\n",
              "      <td>1</td>\n",
              "      <td>0</td>\n",
              "      <td>0.0</td>\n",
              "      <td>1.0</td>\n",
              "      <td>0.0</td>\n",
              "      <td>0.0</td>\n",
              "      <td>0.0</td>\n",
              "      <td>1.0</td>\n",
              "      <td>0.0</td>\n",
              "      <td>0.0</td>\n",
              "      <td>0.0</td>\n",
              "      <td>-1.0</td>\n",
              "      <td>0.0</td>\n",
              "      <td>0.0</td>\n",
              "      <td>0.0</td>\n",
              "    </tr>\n",
              "    <tr>\n",
              "      <th>4</th>\n",
              "      <td>0</td>\n",
              "      <td>1</td>\n",
              "      <td>1</td>\n",
              "      <td>0</td>\n",
              "      <td>0</td>\n",
              "      <td>0</td>\n",
              "      <td>0.0</td>\n",
              "      <td>0.0</td>\n",
              "      <td>-1.0</td>\n",
              "      <td>0.0</td>\n",
              "      <td>0.0</td>\n",
              "      <td>1.0</td>\n",
              "      <td>0.0</td>\n",
              "      <td>0.0</td>\n",
              "      <td>0.0</td>\n",
              "      <td>0.0</td>\n",
              "      <td>-1.0</td>\n",
              "      <td>0.0</td>\n",
              "      <td>0.0</td>\n",
              "    </tr>\n",
              "    <tr>\n",
              "      <th>...</th>\n",
              "      <td>...</td>\n",
              "      <td>...</td>\n",
              "      <td>...</td>\n",
              "      <td>...</td>\n",
              "      <td>...</td>\n",
              "      <td>...</td>\n",
              "      <td>...</td>\n",
              "      <td>...</td>\n",
              "      <td>...</td>\n",
              "      <td>...</td>\n",
              "      <td>...</td>\n",
              "      <td>...</td>\n",
              "      <td>...</td>\n",
              "      <td>...</td>\n",
              "      <td>...</td>\n",
              "      <td>...</td>\n",
              "      <td>...</td>\n",
              "      <td>...</td>\n",
              "      <td>...</td>\n",
              "    </tr>\n",
              "    <tr>\n",
              "      <th>2098</th>\n",
              "      <td>1</td>\n",
              "      <td>0</td>\n",
              "      <td>1</td>\n",
              "      <td>0</td>\n",
              "      <td>0</td>\n",
              "      <td>0</td>\n",
              "      <td>0.0</td>\n",
              "      <td>0.0</td>\n",
              "      <td>-1.0</td>\n",
              "      <td>0.0</td>\n",
              "      <td>0.0</td>\n",
              "      <td>-1.0</td>\n",
              "      <td>0.0</td>\n",
              "      <td>0.0</td>\n",
              "      <td>0.0</td>\n",
              "      <td>0.0</td>\n",
              "      <td>-1.0</td>\n",
              "      <td>0.0</td>\n",
              "      <td>0.0</td>\n",
              "    </tr>\n",
              "    <tr>\n",
              "      <th>2099</th>\n",
              "      <td>1</td>\n",
              "      <td>0</td>\n",
              "      <td>1</td>\n",
              "      <td>0</td>\n",
              "      <td>0</td>\n",
              "      <td>0</td>\n",
              "      <td>0.0</td>\n",
              "      <td>1.0</td>\n",
              "      <td>0.0</td>\n",
              "      <td>0.0</td>\n",
              "      <td>0.0</td>\n",
              "      <td>0.0</td>\n",
              "      <td>0.0</td>\n",
              "      <td>0.0</td>\n",
              "      <td>1.0</td>\n",
              "      <td>1.0</td>\n",
              "      <td>0.0</td>\n",
              "      <td>0.0</td>\n",
              "      <td>0.0</td>\n",
              "    </tr>\n",
              "    <tr>\n",
              "      <th>2100</th>\n",
              "      <td>0</td>\n",
              "      <td>1</td>\n",
              "      <td>1</td>\n",
              "      <td>0</td>\n",
              "      <td>0</td>\n",
              "      <td>0</td>\n",
              "      <td>0.0</td>\n",
              "      <td>0.0</td>\n",
              "      <td>-1.0</td>\n",
              "      <td>0.0</td>\n",
              "      <td>-1.0</td>\n",
              "      <td>1.0</td>\n",
              "      <td>0.0</td>\n",
              "      <td>0.0</td>\n",
              "      <td>0.0</td>\n",
              "      <td>0.0</td>\n",
              "      <td>-1.0</td>\n",
              "      <td>0.0</td>\n",
              "      <td>0.0</td>\n",
              "    </tr>\n",
              "    <tr>\n",
              "      <th>2101</th>\n",
              "      <td>0</td>\n",
              "      <td>1</td>\n",
              "      <td>1</td>\n",
              "      <td>0</td>\n",
              "      <td>0</td>\n",
              "      <td>0</td>\n",
              "      <td>0.0</td>\n",
              "      <td>0.0</td>\n",
              "      <td>0.0</td>\n",
              "      <td>-1.0</td>\n",
              "      <td>0.0</td>\n",
              "      <td>1.0</td>\n",
              "      <td>0.0</td>\n",
              "      <td>0.0</td>\n",
              "      <td>0.0</td>\n",
              "      <td>0.0</td>\n",
              "      <td>-1.0</td>\n",
              "      <td>0.0</td>\n",
              "      <td>0.0</td>\n",
              "    </tr>\n",
              "    <tr>\n",
              "      <th>2102</th>\n",
              "      <td>1</td>\n",
              "      <td>0</td>\n",
              "      <td>1</td>\n",
              "      <td>0</td>\n",
              "      <td>0</td>\n",
              "      <td>0</td>\n",
              "      <td>0.0</td>\n",
              "      <td>0.0</td>\n",
              "      <td>-1.0</td>\n",
              "      <td>0.0</td>\n",
              "      <td>-1.0</td>\n",
              "      <td>1.0</td>\n",
              "      <td>0.0</td>\n",
              "      <td>0.0</td>\n",
              "      <td>0.0</td>\n",
              "      <td>1.0</td>\n",
              "      <td>0.0</td>\n",
              "      <td>0.0</td>\n",
              "      <td>0.0</td>\n",
              "    </tr>\n",
              "  </tbody>\n",
              "</table>\n",
              "<p>2103 rows × 19 columns</p>\n",
              "</div>"
            ],
            "text/plain": [
              "      Sexo_masculino  Sexo_feminino  ...  AreaAtuacao2  AreaAtuacao3\n",
              "0                  1              0  ...           0.0           0.0\n",
              "1                  0              1  ...           0.0           0.0\n",
              "2                  1              0  ...           0.0           0.0\n",
              "3                  0              1  ...           0.0           0.0\n",
              "4                  0              1  ...           0.0           0.0\n",
              "...              ...            ...  ...           ...           ...\n",
              "2098               1              0  ...           0.0           0.0\n",
              "2099               1              0  ...           0.0           0.0\n",
              "2100               0              1  ...           0.0           0.0\n",
              "2101               0              1  ...           0.0           0.0\n",
              "2102               1              0  ...           0.0           0.0\n",
              "\n",
              "[2103 rows x 19 columns]"
            ]
          },
          "metadata": {
            "tags": []
          },
          "execution_count": 729
        }
      ]
    },
    {
      "cell_type": "code",
      "metadata": {
        "id": "AS54ANaB38ML"
      },
      "source": [
        "df_cat = pd.concat([x_cat,y_train],axis = 1)"
      ],
      "execution_count": null,
      "outputs": []
    },
    {
      "cell_type": "code",
      "metadata": {
        "id": "8RJKyRID4GGy"
      },
      "source": [
        "x_train_novo = pd.concat([x_num_dec,x_cat],axis =  1)"
      ],
      "execution_count": null,
      "outputs": []
    },
    {
      "cell_type": "markdown",
      "metadata": {
        "id": "kPtvuhovEU2-"
      },
      "source": [
        "## Acertando o conjunto de treino.."
      ]
    },
    {
      "cell_type": "code",
      "metadata": {
        "id": "7B0CKXJ-9aS-"
      },
      "source": [
        "x_num_test = x_test[featNum].drop(columns = ['Computador','NumeroFilhos'])\n",
        "#x_num.NivelGerencial = x_num.NivelGerencial - 1\n",
        "x_cat_test = x_test[featCat]"
      ],
      "execution_count": null,
      "outputs": []
    },
    {
      "cell_type": "code",
      "metadata": {
        "id": "LcAQE-WN9STS"
      },
      "source": [
        "x_test_norm = (x_num_test-x_num_mean)/x_num_std"
      ],
      "execution_count": null,
      "outputs": []
    },
    {
      "cell_type": "code",
      "metadata": {
        "id": "05vbdU1e9ti0"
      },
      "source": [
        "x_test_dec = np.dot(x_test_norm,x_avet)"
      ],
      "execution_count": null,
      "outputs": []
    },
    {
      "cell_type": "code",
      "metadata": {
        "id": "ejWthz9K-bnS"
      },
      "source": [
        "x_test_dec = pd.DataFrame(x_test_dec,columns = ['PC0','PC1','PC2','PC3'])"
      ],
      "execution_count": null,
      "outputs": []
    },
    {
      "cell_type": "code",
      "metadata": {
        "id": "z3vKx3G2-1zI"
      },
      "source": [
        "sexo = pd.get_dummies(x_cat_test['Sexo'], drop_first=False)\n",
        "sexo.columns = ['Sexo_masculino', 'Sexo_feminino']\n",
        "\n",
        "x_cat_test = pd.concat([x_cat_test,sexo], axis=1)\n",
        "del x_cat_test['Sexo']  "
      ],
      "execution_count": null,
      "outputs": []
    },
    {
      "cell_type": "code",
      "metadata": {
        "id": "9C9tGfuh-1zJ"
      },
      "source": [
        "estado_civil = pd.get_dummies(x_cat_test['EstadoCivil'], drop_first=False)\n",
        "estado_civil.columns = ['EstadoCivil_solteiro', 'EstadoCivil_junto', 'EstadoCivil_casado', 'EstadoCivil_viuvo']\n",
        "estado_civil\n",
        "\n",
        "x_cat_test = pd.concat([x_cat_test,estado_civil], axis=1)\n",
        "del x_cat_test['EstadoCivil']"
      ],
      "execution_count": null,
      "outputs": []
    },
    {
      "cell_type": "code",
      "metadata": {
        "id": "2pq4AX47-1zJ"
      },
      "source": [
        "x_cat_test[['Cidade','Ocupacao','AreaAtuacao']] = x_cat_test[['Cidade','Ocupacao','AreaAtuacao']].astype('string')"
      ],
      "execution_count": null,
      "outputs": []
    },
    {
      "cell_type": "code",
      "metadata": {
        "id": "Q8QWXOfK-1zJ"
      },
      "source": [
        "hashed_features = fh1.transform(x_cat_test['Cidade'])\n",
        "hashed_features = hashed_features.toarray()\n",
        "hashCidade = pd.DataFrame(data = hashed_features,columns = ['Cidade0','Cidade1','Cidade2','Cidade3','Cidade4'])\n",
        "x_cat_test = pd.concat([x_cat_test,hashCidade],axis = 1).reset_index(drop = True)\n",
        "del x_cat_test['Cidade']"
      ],
      "execution_count": null,
      "outputs": []
    },
    {
      "cell_type": "code",
      "metadata": {
        "id": "PUxG_tA9-1zJ"
      },
      "source": [
        "hashed_features = fh2.transform(x_cat_test['Ocupacao'])\n",
        "hashed_features = hashed_features.toarray()\n",
        "hashOcupacao = pd.DataFrame(data = hashed_features,columns = ['Ocupacao0','Ocupacao1','Ocupacao2','Ocupacao3'])\n",
        "x_cat_test = pd.concat([x_cat_test,hashOcupacao],axis = 1).reset_index(drop = True)\n",
        "del x_cat_test['Ocupacao']"
      ],
      "execution_count": null,
      "outputs": []
    },
    {
      "cell_type": "code",
      "metadata": {
        "id": "TbByQhL7-1zK"
      },
      "source": [
        "hashed_features = fh3.transform(x_cat_test['AreaAtuacao'])\n",
        "hashed_features = hashed_features.toarray()\n",
        "hashAreaAtuacao = pd.DataFrame(data = hashed_features,columns = ['AreaAtuacao0','AreaAtuacao1','AreaAtuacao2','AreaAtuacao3'])\n",
        "x_cat_test = pd.concat([x_cat_test,hashAreaAtuacao],axis = 1).reset_index(drop = True)\n",
        "del x_cat_test['AreaAtuacao']"
      ],
      "execution_count": null,
      "outputs": []
    },
    {
      "cell_type": "code",
      "metadata": {
        "id": "6s98n2Y1-1zK"
      },
      "source": [
        "x_test_novo = pd.concat([x_test_dec,x_cat_test],axis =  1)"
      ],
      "execution_count": null,
      "outputs": []
    },
    {
      "cell_type": "markdown",
      "metadata": {
        "id": "LPa0GIBQ5E5X"
      },
      "source": [
        "## SVM e MLP\n"
      ]
    },
    {
      "cell_type": "code",
      "metadata": {
        "id": "2grMJYJ363Q0"
      },
      "source": [
        "from sklearn.svm import SVC\n",
        "from sklearn.metrics import classification_report, confusion_matrix, accuracy_score"
      ],
      "execution_count": null,
      "outputs": []
    },
    {
      "cell_type": "code",
      "metadata": {
        "colab": {
          "base_uri": "https://localhost:8080/"
        },
        "id": "Odit_kxN87M9",
        "outputId": "22a82e31-eda8-4c26-94a7-ff1c2997ca4b"
      },
      "source": [
        "svm = SVC(C=1.0,\n",
        "          kernel='rbf',        #kernel{‘linear’, ‘poly’, ‘rbf’, ‘sigmoid’, ‘precomputed’}, default=’rbf’       \n",
        "          gamma='auto' ,           # se gamma='scale'(padrão) é passado, então ele usa 1 / (n_features * X.var ()) como valor de gama,\n",
        "                                   # se 'auto', usa 1 / n_features.\n",
        "          degree = 3,              # grau do polinomio para kernel poly\n",
        "          coef0 = 5,               # usa em poly e sigmoid\n",
        "          tol=0.1,               # Tolerância para critério de parada.\n",
        "          cache_size=2048,         # Especifique o tamanho do cache do kernel (em MB).\n",
        "          verbose= False, \n",
        "          max_iter=-1,             # Limite rígido nas iterações no solver ou -1 para nenhum limite.\n",
        "          )\n",
        "\n",
        "svm.fit(x_train_novo, y_train.values.ravel())\n",
        "\n",
        "print(\"Treino\\n\")\n",
        "predictions = svm.predict(x_train_novo)\n",
        "print(confusion_matrix(y_train,predictions))\n",
        "print(classification_report(y_train,predictions))\n",
        "\n",
        "print(\"\\n Teste\\n\")\n",
        "predictionsTestSvm = svm.predict(x_test_novo)\n",
        "print(confusion_matrix(y_test,predictionsTestSvm))\n",
        "print(classification_report(y_test,predictionsTestSvm))"
      ],
      "execution_count": null,
      "outputs": [
        {
          "output_type": "stream",
          "text": [
            "Treino\n",
            "\n",
            "[[526 168   7]\n",
            " [119 462 120]\n",
            " [  5 158 538]]\n",
            "              precision    recall  f1-score   support\n",
            "\n",
            "         0.0       0.81      0.75      0.78       701\n",
            "         1.0       0.59      0.66      0.62       701\n",
            "         2.0       0.81      0.77      0.79       701\n",
            "\n",
            "    accuracy                           0.73      2103\n",
            "   macro avg       0.73      0.73      0.73      2103\n",
            "weighted avg       0.73      0.73      0.73      2103\n",
            "\n",
            "\n",
            " Teste\n",
            "\n",
            "[[293  68   2]\n",
            " [ 37 134  27]\n",
            " [  3  45 128]]\n",
            "              precision    recall  f1-score   support\n",
            "\n",
            "         0.0       0.88      0.81      0.84       363\n",
            "         1.0       0.54      0.68      0.60       198\n",
            "         2.0       0.82      0.73      0.77       176\n",
            "\n",
            "    accuracy                           0.75       737\n",
            "   macro avg       0.75      0.74      0.74       737\n",
            "weighted avg       0.77      0.75      0.76       737\n",
            "\n"
          ],
          "name": "stdout"
        }
      ]
    },
    {
      "cell_type": "markdown",
      "metadata": {
        "id": "NWTsjj_SDoGG"
      },
      "source": [
        "Acertando o conjunto de treino para executar a predição"
      ]
    },
    {
      "cell_type": "code",
      "metadata": {
        "id": "BdsEAmHPDj_r"
      },
      "source": [
        "from sklearn.neural_network import MLPClassifier"
      ],
      "execution_count": null,
      "outputs": []
    },
    {
      "cell_type": "code",
      "metadata": {
        "colab": {
          "base_uri": "https://localhost:8080/"
        },
        "id": "MoYHQIcBDkTO",
        "outputId": "6dea11ff-034e-46c4-9324-48e47101c38c"
      },
      "source": [
        "mlp1 = MLPClassifier(solver = 'adam',    #adam, sgd, lbfgs\n",
        "                     activation ='relu',       #identity, logistic, tanh, relu\n",
        "                     hidden_layer_sizes=(8,8,8), \n",
        "                     alpha = 0.1,\n",
        "                     learning_rate = 'constant',    #constant, invscaling, adaptive . só para sgd\n",
        "                     learning_rate_init = 0.01,    #so para sgd\n",
        "                     power_t = 0.1,                 #so para sgd, usando invscaling\n",
        "                     momentum = 0.9,                #so para sgd\n",
        "                     nesterovs_momentum = True,      #so para sgd e se momentum > 0\n",
        "                     beta_1 = 0.9,                  #so para adam\n",
        "                     beta_2 = 0.99,                  #so para adam\n",
        "                     epsilon = 1e-8,                #so para adam\n",
        "                     tol = 1e-3,\n",
        "                     max_iter=1000,\n",
        "                     verbose = False, \n",
        "                     early_stopping= True,\n",
        "                     validation_fraction= 0.2,      #so se early stopping = true\n",
        "                     shuffle = True, \n",
        "                     n_iter_no_change = 50)\n",
        "\n",
        "\n",
        "\n",
        "mlp1.fit(x_train_novo, \n",
        "         y_train.values.ravel())\n",
        "predictions = mlp1.predict(x_train_novo)\n",
        "print(\"Treino\\n\")\n",
        "print(confusion_matrix(y_train,predictions))\n",
        "print(classification_report(y_train,predictions))\n",
        "print(\"\\n Teste \\n\")\n",
        "predictionsTestMlp = mlp1.predict(x_test_novo)\n",
        "print(confusion_matrix(y_test,predictionsTestMlp))\n",
        "print(classification_report(y_test,predictionsTestMlp))"
      ],
      "execution_count": null,
      "outputs": [
        {
          "output_type": "stream",
          "text": [
            "Treino\n",
            "\n",
            "[[558 137   6]\n",
            " [145 448 108]\n",
            " [  8 160 533]]\n",
            "              precision    recall  f1-score   support\n",
            "\n",
            "         0.0       0.78      0.80      0.79       701\n",
            "         1.0       0.60      0.64      0.62       701\n",
            "         2.0       0.82      0.76      0.79       701\n",
            "\n",
            "    accuracy                           0.73      2103\n",
            "   macro avg       0.74      0.73      0.73      2103\n",
            "weighted avg       0.74      0.73      0.73      2103\n",
            "\n",
            "\n",
            " Teste \n",
            "\n",
            "[[301  60   2]\n",
            " [ 45 129  24]\n",
            " [  4  44 128]]\n",
            "              precision    recall  f1-score   support\n",
            "\n",
            "         0.0       0.86      0.83      0.84       363\n",
            "         1.0       0.55      0.65      0.60       198\n",
            "         2.0       0.83      0.73      0.78       176\n",
            "\n",
            "    accuracy                           0.76       737\n",
            "   macro avg       0.75      0.74      0.74       737\n",
            "weighted avg       0.77      0.76      0.76       737\n",
            "\n"
          ],
          "name": "stdout"
        }
      ]
    },
    {
      "cell_type": "markdown",
      "metadata": {
        "id": "eMAj6y6pLpAk"
      },
      "source": [
        "## Contrapondo o Prospect"
      ]
    },
    {
      "cell_type": "code",
      "metadata": {
        "id": "M8w2p_n0LlDj"
      },
      "source": [
        "df2 = pd.read_excel(\"/content/gdrive/My Drive/CIÊNCIA DA COMPUTAÇÃO/CNN/Profile_Prospect.xls\").drop(columns = ['ClienteNo'])"
      ],
      "execution_count": null,
      "outputs": []
    },
    {
      "cell_type": "code",
      "metadata": {
        "id": "ItkYSn1j4SWR"
      },
      "source": [
        "df2['Lucro'] = df2['PrimeiraCompra'].copy() - 42"
      ],
      "execution_count": null,
      "outputs": []
    },
    {
      "cell_type": "code",
      "metadata": {
        "id": "mPSUSg4sL2rL"
      },
      "source": [
        "df2.loc[df2.PrimeiraCompra < 42, \"PrimeiraCompra\"] = 0\n",
        "df2.loc[df2.PrimeiraCompra >= 66, \"PrimeiraCompra\"] = 2\n",
        "df2.loc[df2.PrimeiraCompra >= 42, \"PrimeiraCompra\"] = 1"
      ],
      "execution_count": null,
      "outputs": []
    },
    {
      "cell_type": "code",
      "metadata": {
        "id": "2FJyD3iuL2rL"
      },
      "source": [
        "x_prof = df2.drop(columns = 'PrimeiraCompra')\n",
        "y_prof = df2['PrimeiraCompra']"
      ],
      "execution_count": null,
      "outputs": []
    },
    {
      "cell_type": "code",
      "metadata": {
        "id": "I6TZ6gCIL2rM"
      },
      "source": [
        "featNum = ['Idade','NumeroFilhos','Escolaridade','NivelGerencial','TipoResidencia','CondicaoResidencia','ValorImovel','NoAutomoveis','Computador']\n",
        "featCat = ['Cidade','EstadoCivil','Sexo','Ocupacao','AreaAtuacao']"
      ],
      "execution_count": null,
      "outputs": []
    },
    {
      "cell_type": "code",
      "metadata": {
        "id": "YvyWmbt2L2rM"
      },
      "source": [
        "x_num_prof = x_prof[featNum].reset_index(drop = True)\n",
        "#x_num.NivelGerencial = x_num.NivelGerencial - 1\n",
        "x_cat_prof = x_prof[featCat].reset_index(drop = True)"
      ],
      "execution_count": null,
      "outputs": []
    },
    {
      "cell_type": "code",
      "metadata": {
        "id": "I3N0OeXKL2rM"
      },
      "source": [
        "x_num_prof = x_prof[featNum].drop(columns = ['Computador','NumeroFilhos'])\n",
        "x_cat_prof = x_prof[featCat]"
      ],
      "execution_count": null,
      "outputs": []
    },
    {
      "cell_type": "code",
      "metadata": {
        "id": "kPv2kEqhL2rM"
      },
      "source": [
        "x_prof_norm = (x_num_prof-x_num_mean)/x_num_std"
      ],
      "execution_count": null,
      "outputs": []
    },
    {
      "cell_type": "code",
      "metadata": {
        "id": "n2Ee8rdPL2rM"
      },
      "source": [
        "x_prof_dec = np.dot(x_prof_norm,x_avet)"
      ],
      "execution_count": null,
      "outputs": []
    },
    {
      "cell_type": "code",
      "metadata": {
        "id": "44rw6yrlL2rM"
      },
      "source": [
        "x_prof_dec = pd.DataFrame(x_prof_dec,columns = ['PC0','PC1','PC2','PC3'])"
      ],
      "execution_count": null,
      "outputs": []
    },
    {
      "cell_type": "code",
      "metadata": {
        "id": "HHqjEHqEL2rN"
      },
      "source": [
        "sexo = pd.get_dummies(x_cat_prof['Sexo'], drop_first=False)\n",
        "sexo.columns = ['Sexo_masculino', 'Sexo_feminino']\n",
        "\n",
        "x_cat_prof = pd.concat([x_cat_prof,sexo], axis=1)\n",
        "del x_cat_prof['Sexo']  "
      ],
      "execution_count": null,
      "outputs": []
    },
    {
      "cell_type": "code",
      "metadata": {
        "id": "OiptMcGiL2rN"
      },
      "source": [
        "estado_civil = pd.get_dummies(x_cat_prof['EstadoCivil'], drop_first=False)\n",
        "estado_civil.columns = ['EstadoCivil_solteiro', 'EstadoCivil_junto', 'EstadoCivil_casado', 'EstadoCivil_viuvo']\n",
        "estado_civil\n",
        "\n",
        "x_cat_prof = pd.concat([x_cat_prof,estado_civil], axis=1)\n",
        "del x_cat_prof['EstadoCivil']"
      ],
      "execution_count": null,
      "outputs": []
    },
    {
      "cell_type": "code",
      "metadata": {
        "id": "3c7foqLiL2rN"
      },
      "source": [
        "x_cat_prof[['Cidade','Ocupacao','AreaAtuacao']] = x_cat_prof[['Cidade','Ocupacao','AreaAtuacao']].astype('string')"
      ],
      "execution_count": null,
      "outputs": []
    },
    {
      "cell_type": "code",
      "metadata": {
        "id": "cYWf90gmL2rN"
      },
      "source": [
        "hashed_features = fh1.transform(x_cat_prof['Cidade'])\n",
        "hashed_features = hashed_features.toarray()\n",
        "hashCidade = pd.DataFrame(data = hashed_features,columns = ['Cidade0','Cidade1','Cidade2','Cidade3','Cidade4'])\n",
        "x_cat_prof = pd.concat([x_cat_prof,hashCidade],axis = 1).reset_index(drop = True)\n",
        "del x_cat_prof['Cidade']"
      ],
      "execution_count": null,
      "outputs": []
    },
    {
      "cell_type": "code",
      "metadata": {
        "id": "6jZK26twL2rN"
      },
      "source": [
        "hashed_features = fh2.transform(x_cat_prof['Ocupacao'])\n",
        "hashed_features = hashed_features.toarray()\n",
        "hashOcupacao = pd.DataFrame(data = hashed_features,columns = ['Ocupacao0','Ocupacao1','Ocupacao2','Ocupacao3'])\n",
        "x_cat_prof = pd.concat([x_cat_prof,hashOcupacao],axis = 1).reset_index(drop = True)\n",
        "del x_cat_prof['Ocupacao']"
      ],
      "execution_count": null,
      "outputs": []
    },
    {
      "cell_type": "code",
      "metadata": {
        "id": "B-MDO4jkL2rN"
      },
      "source": [
        "hashed_features = fh3.transform(x_cat_prof['AreaAtuacao'])\n",
        "hashed_features = hashed_features.toarray()\n",
        "hashAreaAtuacao = pd.DataFrame(data = hashed_features,columns = ['AreaAtuacao0','AreaAtuacao1','AreaAtuacao2','AreaAtuacao3'])\n",
        "x_cat_prof = pd.concat([x_cat_prof,hashAreaAtuacao],axis = 1).reset_index(drop = True)\n",
        "del x_cat_prof['AreaAtuacao']"
      ],
      "execution_count": null,
      "outputs": []
    },
    {
      "cell_type": "code",
      "metadata": {
        "id": "Asep4bfVL2rO"
      },
      "source": [
        "x_prof_novo = pd.concat([x_prof_dec,x_cat_prof],axis =  1)"
      ],
      "execution_count": null,
      "outputs": []
    },
    {
      "cell_type": "code",
      "metadata": {
        "colab": {
          "base_uri": "https://localhost:8080/"
        },
        "id": "QUjtm_MJMAPN",
        "outputId": "2413812b-f5c9-4ff5-c440-c94e14070f04"
      },
      "source": [
        "predictionsProfSVM = svm.predict(x_prof_novo)\n",
        "print(confusion_matrix(y_prof,predictionsProfSVM))\n",
        "print(classification_report(y_prof,predictionsProfSVM))"
      ],
      "execution_count": null,
      "outputs": [
        {
          "output_type": "stream",
          "text": [
            "[[669 242   9]\n",
            " [160 475 143]\n",
            " [ 13 196 549]]\n",
            "              precision    recall  f1-score   support\n",
            "\n",
            "         0.0       0.79      0.73      0.76       920\n",
            "         1.0       0.52      0.61      0.56       778\n",
            "         2.0       0.78      0.72      0.75       758\n",
            "\n",
            "    accuracy                           0.69      2456\n",
            "   macro avg       0.70      0.69      0.69      2456\n",
            "weighted avg       0.70      0.69      0.69      2456\n",
            "\n"
          ],
          "name": "stdout"
        }
      ]
    },
    {
      "cell_type": "code",
      "metadata": {
        "colab": {
          "base_uri": "https://localhost:8080/"
        },
        "id": "iQTS4mifMAPO",
        "outputId": "c1dbd6e6-7354-49ff-e832-8cc8adba7aed"
      },
      "source": [
        "predictionsProfMLP = mlp1.predict(x_prof_novo)\n",
        "print(confusion_matrix(y_prof,predictionsProfMLP))\n",
        "print(classification_report(y_prof,predictionsProfMLP))"
      ],
      "execution_count": null,
      "outputs": [
        {
          "output_type": "stream",
          "text": [
            "[[699 211  10]\n",
            " [206 439 133]\n",
            " [ 21 210 527]]\n",
            "              precision    recall  f1-score   support\n",
            "\n",
            "         0.0       0.75      0.76      0.76       920\n",
            "         1.0       0.51      0.56      0.54       778\n",
            "         2.0       0.79      0.70      0.74       758\n",
            "\n",
            "    accuracy                           0.68      2456\n",
            "   macro avg       0.68      0.67      0.68      2456\n",
            "weighted avg       0.69      0.68      0.68      2456\n",
            "\n"
          ],
          "name": "stdout"
        }
      ]
    },
    {
      "cell_type": "code",
      "metadata": {
        "id": "7LcDM4Z5-EaV"
      },
      "source": [
        ""
      ],
      "execution_count": null,
      "outputs": []
    },
    {
      "cell_type": "code",
      "metadata": {
        "colab": {
          "base_uri": "https://localhost:8080/"
        },
        "id": "Lst1K0yT4JsK",
        "outputId": "4e62be71-117c-4090-c192-35e2ed37afdb"
      },
      "source": [
        "df2['Lucro'].sum()"
      ],
      "execution_count": null,
      "outputs": [
        {
          "output_type": "execute_result",
          "data": {
            "text/plain": [
              "27290.28"
            ]
          },
          "metadata": {
            "tags": []
          },
          "execution_count": 766
        }
      ]
    },
    {
      "cell_type": "code",
      "metadata": {
        "colab": {
          "base_uri": "https://localhost:8080/"
        },
        "id": "UPx5QdQL38b6",
        "outputId": "5d18ecb8-5ae4-4742-a9d1-ffb8c28586b3"
      },
      "source": [
        "df2.loc[(predictionsProfSVM != 0), 'Lucro'].sum()"
      ],
      "execution_count": null,
      "outputs": [
        {
          "output_type": "execute_result",
          "data": {
            "text/plain": [
              "37671.47"
            ]
          },
          "metadata": {
            "tags": []
          },
          "execution_count": 767
        }
      ]
    },
    {
      "cell_type": "code",
      "metadata": {
        "colab": {
          "base_uri": "https://localhost:8080/"
        },
        "id": "6tsEcfXb5C4X",
        "outputId": "077d4138-df87-4899-f281-917bc069cd4e"
      },
      "source": [
        "df2.loc[(predictionsProfMLP != 0), 'Lucro'].sum()"
      ],
      "execution_count": null,
      "outputs": [
        {
          "output_type": "execute_result",
          "data": {
            "text/plain": [
              "37261.119999999995"
            ]
          },
          "metadata": {
            "tags": []
          },
          "execution_count": 768
        }
      ]
    }
  ]
}